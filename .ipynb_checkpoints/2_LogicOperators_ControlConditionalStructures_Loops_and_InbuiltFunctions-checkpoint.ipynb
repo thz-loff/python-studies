{
 "cells": [
  {
   "cell_type": "markdown",
   "id": "223a806d",
   "metadata": {},
   "source": [
    "# Let's contiue our studies\n",
    "## We shall present now  tools used in Python programming to manage conditions and control the program decisions\n",
    "- Comparison & Logical Operators;\n",
    "- Control & Conditional Structures;\n",
    "- Loops;\n",
    "- Inbuilt Functions."
   ]
  },
  {
   "cell_type": "markdown",
   "id": "5c8275ed",
   "metadata": {},
   "source": [
    "### Comparison & Logical Operators\n",
    "\n",
    "\n",
    "Let us define some variables:"
   ]
  },
  {
   "cell_type": "code",
   "execution_count": 131,
   "id": "deb76661",
   "metadata": {},
   "outputs": [],
   "source": [
    "a = 4\n",
    "b = 5\n",
    "c = 1"
   ]
  },
  {
   "cell_type": "markdown",
   "id": "dc1838a4",
   "metadata": {},
   "source": [
    "#### Comparisons"
   ]
  },
  {
   "cell_type": "markdown",
   "id": "0f3cecbe",
   "metadata": {},
   "source": [
    "Lesser and greater than:"
   ]
  },
  {
   "cell_type": "code",
   "execution_count": 16,
   "id": "bd334fa1",
   "metadata": {},
   "outputs": [
    {
     "data": {
      "text/plain": [
       "True"
      ]
     },
     "execution_count": 16,
     "metadata": {},
     "output_type": "execute_result"
    }
   ],
   "source": [
    "a<b"
   ]
  },
  {
   "cell_type": "code",
   "execution_count": 17,
   "id": "7c8139b5",
   "metadata": {},
   "outputs": [
    {
     "data": {
      "text/plain": [
       "False"
      ]
     },
     "execution_count": 17,
     "metadata": {},
     "output_type": "execute_result"
    }
   ],
   "source": [
    "a>b"
   ]
  },
  {
   "cell_type": "code",
   "execution_count": 18,
   "id": "ae55f9c9",
   "metadata": {},
   "outputs": [
    {
     "data": {
      "text/plain": [
       "False"
      ]
     },
     "execution_count": 18,
     "metadata": {},
     "output_type": "execute_result"
    }
   ],
   "source": [
    "a<4"
   ]
  },
  {
   "cell_type": "markdown",
   "id": "e1c44e85",
   "metadata": {},
   "source": [
    "... Or equal:"
   ]
  },
  {
   "cell_type": "code",
   "execution_count": 19,
   "id": "040176b2",
   "metadata": {},
   "outputs": [
    {
     "data": {
      "text/plain": [
       "True"
      ]
     },
     "execution_count": 19,
     "metadata": {},
     "output_type": "execute_result"
    }
   ],
   "source": [
    "a<=4"
   ]
  },
  {
   "cell_type": "code",
   "execution_count": 20,
   "id": "973dfa13",
   "metadata": {},
   "outputs": [
    {
     "data": {
      "text/plain": [
       "True"
      ]
     },
     "execution_count": 20,
     "metadata": {},
     "output_type": "execute_result"
    }
   ],
   "source": [
    "a>=4"
   ]
  },
  {
   "cell_type": "markdown",
   "id": "533c112e",
   "metadata": {},
   "source": [
    "Equality"
   ]
  },
  {
   "cell_type": "code",
   "execution_count": 21,
   "id": "21166cbd",
   "metadata": {},
   "outputs": [
    {
     "data": {
      "text/plain": [
       "True"
      ]
     },
     "execution_count": 21,
     "metadata": {},
     "output_type": "execute_result"
    }
   ],
   "source": [
    "(b-a)==c"
   ]
  },
  {
   "cell_type": "markdown",
   "id": "4d8dea8a",
   "metadata": {},
   "source": [
    "Not equal"
   ]
  },
  {
   "cell_type": "code",
   "execution_count": 22,
   "id": "fea9ac3f",
   "metadata": {},
   "outputs": [
    {
     "data": {
      "text/plain": [
       "False"
      ]
     },
     "execution_count": 22,
     "metadata": {},
     "output_type": "execute_result"
    }
   ],
   "source": [
    "a!=4"
   ]
  },
  {
   "cell_type": "code",
   "execution_count": 23,
   "id": "66bd275e",
   "metadata": {},
   "outputs": [
    {
     "data": {
      "text/plain": [
       "True"
      ]
     },
     "execution_count": 23,
     "metadata": {},
     "output_type": "execute_result"
    }
   ],
   "source": [
    "a!=b"
   ]
  },
  {
   "cell_type": "markdown",
   "id": "48ed1ad0",
   "metadata": {},
   "source": [
    "#### Logical"
   ]
  },
  {
   "cell_type": "markdown",
   "id": "c4c523f4",
   "metadata": {},
   "source": [
    "Or, and & not."
   ]
  },
  {
   "cell_type": "code",
   "execution_count": 24,
   "id": "e5816e94",
   "metadata": {},
   "outputs": [
    {
     "data": {
      "text/plain": [
       "True"
      ]
     },
     "execution_count": 24,
     "metadata": {},
     "output_type": "execute_result"
    }
   ],
   "source": [
    "a==c or b==5"
   ]
  },
  {
   "cell_type": "code",
   "execution_count": 41,
   "id": "50925fce",
   "metadata": {},
   "outputs": [
    {
     "data": {
      "text/plain": [
       "True"
      ]
     },
     "execution_count": 41,
     "metadata": {},
     "output_type": "execute_result"
    }
   ],
   "source": [
    "a==4 or b==5"
   ]
  },
  {
   "cell_type": "code",
   "execution_count": 27,
   "id": "671bd40f",
   "metadata": {},
   "outputs": [
    {
     "data": {
      "text/plain": [
       "True"
      ]
     },
     "execution_count": 27,
     "metadata": {},
     "output_type": "execute_result"
    }
   ],
   "source": [
    "a==4 or b==5"
   ]
  },
  {
   "cell_type": "code",
   "execution_count": 28,
   "id": "4ecc72a6",
   "metadata": {},
   "outputs": [
    {
     "data": {
      "text/plain": [
       "False"
      ]
     },
     "execution_count": 28,
     "metadata": {},
     "output_type": "execute_result"
    }
   ],
   "source": [
    "a==3 and b==5"
   ]
  },
  {
   "cell_type": "code",
   "execution_count": 29,
   "id": "f5fd7c05",
   "metadata": {},
   "outputs": [
    {
     "data": {
      "text/plain": [
       "True"
      ]
     },
     "execution_count": 29,
     "metadata": {},
     "output_type": "execute_result"
    }
   ],
   "source": [
    "a==4 and b==5"
   ]
  },
  {
   "cell_type": "code",
   "execution_count": 44,
   "id": "6941e6b2",
   "metadata": {},
   "outputs": [
    {
     "data": {
      "text/plain": [
       "False"
      ]
     },
     "execution_count": 44,
     "metadata": {},
     "output_type": "execute_result"
    }
   ],
   "source": [
    "not(a==a)"
   ]
  },
  {
   "cell_type": "code",
   "execution_count": 66,
   "id": "346e6096",
   "metadata": {},
   "outputs": [
    {
     "data": {
      "text/plain": [
       "True"
      ]
     },
     "execution_count": 66,
     "metadata": {},
     "output_type": "execute_result"
    }
   ],
   "source": [
    "not(a==b)"
   ]
  },
  {
   "cell_type": "markdown",
   "id": "a9ebadee",
   "metadata": {},
   "source": [
    "### Control Conditional Structures \n",
    "\n",
    "We are able to use IF, ELIF and ELSE to control decisions from given conditions:"
   ]
  },
  {
   "cell_type": "code",
   "execution_count": 58,
   "id": "b82412a4",
   "metadata": {
    "scrolled": true
   },
   "outputs": [
    {
     "name": "stdout",
     "output_type": "stream",
     "text": [
      "a is grater than x\n"
     ]
    }
   ],
   "source": [
    "x = 2 # Change x number to see the different results\n",
    "if(a>x):\n",
    "    print(\"a is grater than x\")\n",
    "elif(a<x):\n",
    "    print(\"a is lesser than x\")\n",
    "else:\n",
    "    print(\"a is equal to x\")"
   ]
  },
  {
   "cell_type": "code",
   "execution_count": 132,
   "id": "643c60a7",
   "metadata": {},
   "outputs": [
    {
     "name": "stdout",
     "output_type": "stream",
     "text": [
      "x is lesser than a, b and c\n"
     ]
    }
   ],
   "source": [
    "x = -8 # Change x number to see the different results\n",
    "if(x<a):\n",
    "    if(x>c):\n",
    "        print(\"x is grater than c and lesser than a and b\")\n",
    "    elif(x<c):\n",
    "        print(\"x is lesser than a, b and c\")\n",
    "    else:\n",
    "        print(\"x is equal to c\")\n",
    "elif(x>a):\n",
    "    if(x>b):\n",
    "        print(\"x is grater than a, b and c\")\n",
    "    elif(x<b):\n",
    "        print(\"x is greater than a and c; and lesser than b\")\n",
    "    else:\n",
    "        print(\"x is equal to b\")\n",
    "else:\n",
    "    print(\"x is equal to a\")"
   ]
  },
  {
   "cell_type": "markdown",
   "id": "92993d8d",
   "metadata": {},
   "source": [
    "### Loops\n",
    "\n",
    "There two main loop types: FOR and WHILE loops.\n",
    "Loops are structures that allow us to iterate, this means, to make repeated actions."
   ]
  },
  {
   "cell_type": "markdown",
   "id": "07b3d474",
   "metadata": {},
   "source": [
    "#### WHILE:"
   ]
  },
  {
   "cell_type": "code",
   "execution_count": 1,
   "id": "2c88bca7",
   "metadata": {},
   "outputs": [
    {
     "name": "stdout",
     "output_type": "stream",
     "text": [
      "0\n",
      "1\n",
      "2\n",
      "3\n",
      "4\n",
      "5\n",
      "6\n",
      "7\n",
      "8\n",
      "9\n"
     ]
    }
   ],
   "source": [
    "i= 0\n",
    "while (i<10):\n",
    "    print(i)\n",
    "    i += 1 #in this case, it will change the counting"
   ]
  },
  {
   "cell_type": "code",
   "execution_count": 2,
   "id": "6611e0f9",
   "metadata": {},
   "outputs": [
    {
     "name": "stdout",
     "output_type": "stream",
     "text": [
      "0\n",
      "2\n",
      "4\n",
      "6\n",
      "8\n"
     ]
    }
   ],
   "source": [
    "i= 0\n",
    "while (i<10):\n",
    "    print(i)\n",
    "    i += 2 #in this case, it will change the counting"
   ]
  },
  {
   "cell_type": "code",
   "execution_count": 64,
   "id": "4304a87b",
   "metadata": {},
   "outputs": [
    {
     "name": "stdout",
     "output_type": "stream",
     "text": [
      "0 ; 1 ; 2 ; 3 ; 4 ; 5 ; 6 ; 7 ; 8 ; 9 ; 10 ; 11 ; 12 ; 13 ; 14 ; 15 ; 16 ; 17 ; 18 ; 19 ; 20 ; 21 ; 22 ; 23 ; 24 ; 25 ; 26 ; 27 ; 28 ; 29 ; 30 ; 31 ; 32 ; 33 ; 34 ; 35 ; 36 ; 37 ; 38 ; 39 ; 40 ; 41 ; 42 ; 43 ; 44 ; 45 ; 46 ; 47 ; 48 ; 49 ; 50 ; 51 ; 52 ; 53 ; 54 ; 55 ; 56 ; 57 ; 58 ; 59 ; 60 ; 61 ; 62 ; 63 ; 64 ; 65 ; 66 ; 67 ; 68 ; 69 ; 70 ; 71 ; 72 ; 73 ; 74 ; 75 ; 76 ; 77 ; 78 ; 79 ; 80 ; 81 ; 82 ; 83 ; 84 ; 85 ; 86 ; 87 ; 88 ; 89 ; 90 ; 91 ; 92 ; 93 ; 94 ; 95 ; 96 ; 97 ; 98 ; 99 ; "
     ]
    }
   ],
   "source": [
    "i=0\n",
    "count = 0\n",
    "while (i<10):\n",
    "    j=0\n",
    "    while(j<10):\n",
    "        print(count, end=\" ; \")\n",
    "        count+=1\n",
    "        j+=1\n",
    "    i+=1"
   ]
  },
  {
   "cell_type": "code",
   "execution_count": 69,
   "id": "beb3fc3f",
   "metadata": {},
   "outputs": [
    {
     "name": "stdout",
     "output_type": "stream",
     "text": [
      "2\n",
      "3\n",
      "5\n",
      "7\n",
      "11\n",
      "13\n",
      "17\n",
      "19\n",
      "23\n",
      "29\n",
      "31\n",
      "37\n",
      "41\n",
      "43\n",
      "47\n",
      "53\n",
      "59\n",
      "61\n",
      "67\n",
      "71\n",
      "73\n",
      "79\n",
      "83\n",
      "89\n",
      "97\n",
      "Esses sao os numeros primos ate 100\n"
     ]
    }
   ],
   "source": [
    "i=2\n",
    "limite =100\n",
    "while i<limite:\n",
    "    j=2\n",
    "    while j<i:\n",
    "        if (i%j==0):\n",
    "            break\n",
    "        j=j+1\n",
    "    if(j==i):\n",
    "        print(i)\n",
    "    i=i+1\n",
    "print(\"Esses sao os numeros primos ate\",limite)"
   ]
  },
  {
   "cell_type": "markdown",
   "id": "f195edcb",
   "metadata": {},
   "source": [
    "#### FOR:\n",
    "The FOR loop can be iterated over any iteratable (string, list, range, tuple, set, dictionary, ...)\n",
    "\n"
   ]
  },
  {
   "cell_type": "markdown",
   "id": "8947eedd",
   "metadata": {},
   "source": [
    "###### range()\n",
    "The range() method is a built-in function in python that allows us to iterate through a sequence of numbers."
   ]
  },
  {
   "cell_type": "code",
   "execution_count": 134,
   "id": "4f37648e",
   "metadata": {},
   "outputs": [
    {
     "name": "stdout",
     "output_type": "stream",
     "text": [
      "0\n",
      "1\n",
      "2\n",
      "3\n",
      "4\n",
      "5\n",
      "6\n",
      "7\n",
      "8\n",
      "9\n"
     ]
    }
   ],
   "source": [
    "for n in range(10):\n",
    "    print(n)"
   ]
  },
  {
   "cell_type": "code",
   "execution_count": 146,
   "id": "77c91f55",
   "metadata": {},
   "outputs": [
    {
     "name": "stdout",
     "output_type": "stream",
     "text": [
      "5\n",
      "6\n",
      "7\n",
      "8\n",
      "9\n"
     ]
    }
   ],
   "source": [
    "for n in range(5,10):\n",
    "    print(n)"
   ]
  },
  {
   "cell_type": "code",
   "execution_count": 148,
   "id": "2a024fbc",
   "metadata": {},
   "outputs": [
    {
     "name": "stdout",
     "output_type": "stream",
     "text": [
      "0\n",
      "2\n",
      "4\n",
      "6\n",
      "8\n"
     ]
    }
   ],
   "source": [
    "for n in range(0,10,2):\n",
    "    print(n)"
   ]
  },
  {
   "cell_type": "markdown",
   "id": "5230022d",
   "metadata": {},
   "source": [
    "###### enumerate()\n",
    "The enumerate() method is a built-in function in python that allows us to iterate through a sequence of numbers while keeping track of the element and its index. \n",
    "\n",
    "We can loop keeping track of the index with range() or of the element with a string, for example:"
   ]
  },
  {
   "cell_type": "code",
   "execution_count": 152,
   "id": "80f3b339",
   "metadata": {},
   "outputs": [
    {
     "name": "stdout",
     "output_type": "stream",
     "text": [
      "Current letter: a\n",
      "Current letter: b\n",
      "Current letter: c\n",
      "Current letter: d\n",
      "Current letter: e\n",
      "Current letter: f\n",
      "Current letter: g\n",
      "Current letter: h\n",
      "Current letter: i\n",
      "Current letter: j\n",
      "Current letter: k\n",
      "Current letter: l\n",
      "Current letter: m\n",
      "Current letter: n\n",
      "Current letter: o\n",
      "Current letter: p\n",
      "Current letter: q\n",
      "Current letter: r\n",
      "Current letter: s\n",
      "Current letter: t\n",
      "Current letter: u\n",
      "Current letter: v\n",
      "Current letter: w\n",
      "Current letter: x\n",
      "Current letter: y\n",
      "Current letter: z\n"
     ]
    }
   ],
   "source": [
    "a = 'abcdefghijklmnopqrstuvwxyz'\n",
    "for letter in a:\n",
    "    print('Current letter:',letter)"
   ]
  },
  {
   "cell_type": "markdown",
   "id": "2366b457",
   "metadata": {},
   "source": [
    "But, if we need the element and its index for a aplication, we can loop by using enumerate()"
   ]
  },
  {
   "cell_type": "code",
   "execution_count": 73,
   "id": "2aabb86d",
   "metadata": {},
   "outputs": [
    {
     "name": "stdout",
     "output_type": "stream",
     "text": [
      "The #1 letter in the list is a\n",
      "The #2 letter in the list is b\n",
      "The #3 letter in the list is c\n",
      "The #4 letter in the list is d\n",
      "The #5 letter in the list is e\n",
      "The #6 letter in the list is f\n",
      "The #7 letter in the list is g\n",
      "The #8 letter in the list is h\n",
      "The #9 letter in the list is i\n",
      "The #10 letter in the list is j\n",
      "The #11 letter in the list is k\n",
      "The #12 letter in the list is l\n",
      "The #13 letter in the list is m\n",
      "The #14 letter in the list is n\n",
      "The #15 letter in the list is o\n",
      "The #16 letter in the list is p\n",
      "The #17 letter in the list is q\n",
      "The #18 letter in the list is r\n",
      "The #19 letter in the list is s\n",
      "The #20 letter in the list is t\n",
      "The #21 letter in the list is u\n",
      "The #22 letter in the list is v\n",
      "The #23 letter in the list is w\n",
      "The #24 letter in the list is x\n",
      "The #25 letter in the list is y\n",
      "The #26 letter in the list is z\n"
     ]
    }
   ],
   "source": [
    "a = 'abcdefghijklmnopqrstuvwxyz'\n",
    "for index,letter in enumerate(a):\n",
    "    print('The #{} letter in the list is {}'.format(index+1,letter))"
   ]
  },
  {
   "cell_type": "markdown",
   "id": "3a4fb8c8",
   "metadata": {},
   "source": [
    "We can also nest loops to implement different solutions"
   ]
  },
  {
   "cell_type": "code",
   "execution_count": 153,
   "id": "5aa032b8",
   "metadata": {},
   "outputs": [
    {
     "name": "stdout",
     "output_type": "stream",
     "text": [
      "1 0\n",
      "2 0\n",
      "2 1\n",
      "3 0\n",
      "3 1\n",
      "3 2\n",
      "4 0\n",
      "4 1\n",
      "4 2\n",
      "4 3\n",
      "5 0\n",
      "5 1\n",
      "5 2\n",
      "5 3\n",
      "5 4\n",
      "6 0\n",
      "6 1\n",
      "6 2\n",
      "6 3\n",
      "6 4\n",
      "6 5\n",
      "7 0\n",
      "7 1\n",
      "7 2\n",
      "7 3\n",
      "7 4\n",
      "7 5\n",
      "7 6\n",
      "8 0\n",
      "8 1\n",
      "8 2\n",
      "8 3\n",
      "8 4\n",
      "8 5\n",
      "8 6\n",
      "8 7\n",
      "9 0\n",
      "9 1\n",
      "9 2\n",
      "9 3\n",
      "9 4\n",
      "9 5\n",
      "9 6\n",
      "9 7\n",
      "9 8\n"
     ]
    }
   ],
   "source": [
    "count = 0\n",
    "for i in range(10):\n",
    "    for j in range (0,i):\n",
    "        print(i,j)"
   ]
  },
  {
   "cell_type": "code",
   "execution_count": 155,
   "id": "911e62d1",
   "metadata": {},
   "outputs": [
    {
     "name": "stdout",
     "output_type": "stream",
     "text": [
      "There is a letter \"a\" in the name\n",
      "There is a letter \"h\" in the name\n",
      "There is a letter \"m\" in the name\n",
      "There is a letter \"o\" in the name\n",
      "There is a letter \"t\" in the name\n",
      "There is a letter \"z\" in the name\n"
     ]
    }
   ],
   "source": [
    "name = 'thomaz'\n",
    "abc = 'abcdefghijklmnopqrstuvwxyz'\n",
    "for letter_1 in abc:\n",
    "    for letter_2 in name:\n",
    "        if (letter_1 == letter_2):\n",
    "            print('There is a letter \"{}\" in the name'.format(letter_1))"
   ]
  },
  {
   "cell_type": "code",
   "execution_count": 151,
   "id": "a2282188",
   "metadata": {},
   "outputs": [
    {
     "name": "stdout",
     "output_type": "stream",
     "text": [
      "0\n",
      "1\n",
      "2\n",
      "3\n",
      "4\n",
      "5\n",
      "6\n",
      "7\n",
      "8\n",
      "9\n"
     ]
    }
   ],
   "source": [
    "for n in range(0,10):\n",
    "    print(n)\n",
    "    n += 1 #note that it don't affect the counting"
   ]
  },
  {
   "cell_type": "markdown",
   "id": "4d23c0ce",
   "metadata": {},
   "source": [
    "#### Notice that:\n",
    "When using the FOR loop, one can iterate over a variety of strucutres that we shall cover in future studies.\n",
    "Some examples are: STRINGS, LISTS, TUPLES, SETS and DICTIONARIES."
   ]
  },
  {
   "cell_type": "markdown",
   "id": "7b58871e",
   "metadata": {},
   "source": [
    "#### Control Statement in Loops\n",
    "\n",
    "There are three special statement BREAK, CONTINUE and PASS. They have different uses that we'll see now\n",
    "\n",
    "##### BREAK\n",
    "It might be used when one wants to stop a loop from running and jump to the code bellow the loop's block."
   ]
  },
  {
   "cell_type": "code",
   "execution_count": 43,
   "id": "292bb6db",
   "metadata": {},
   "outputs": [
    {
     "name": "stdout",
     "output_type": "stream",
     "text": [
      "0\n",
      "Still running\n",
      "1\n",
      "Still running\n",
      "2\n",
      "Still running\n",
      "3\n",
      "Still running\n",
      "4\n",
      "Stoped running\n"
     ]
    }
   ],
   "source": [
    "for i in range(10):\n",
    "    print(i)\n",
    "    if(i==4):\n",
    "        break\n",
    "    print('Still running')\n",
    "\n",
    "print('Stoped running')"
   ]
  },
  {
   "cell_type": "markdown",
   "id": "bd83e6ab",
   "metadata": {},
   "source": [
    "##### CONTINUE\n",
    "It might be used when one wants to jump the current index of a loop and imediately run the loop for the next index."
   ]
  },
  {
   "cell_type": "code",
   "execution_count": 37,
   "id": "16746eb8",
   "metadata": {},
   "outputs": [
    {
     "name": "stdout",
     "output_type": "stream",
     "text": [
      "0\n",
      "Still running\n",
      "1\n",
      "Still running\n",
      "2\n",
      "Still running\n",
      "3\n",
      "Still running\n",
      "4\n",
      "5\n",
      "Still running\n",
      "6\n",
      "Still running\n",
      "7\n",
      "Still running\n",
      "8\n",
      "Still running\n",
      "9\n",
      "Still running\n",
      "Stoped running\n"
     ]
    }
   ],
   "source": [
    "for i in range(10):\n",
    "    print(i)\n",
    "    if(i==4):\n",
    "        continue\n",
    "    print('Still running')\n",
    "\n",
    "print('Stoped running')"
   ]
  },
  {
   "cell_type": "markdown",
   "id": "a9f9f637",
   "metadata": {},
   "source": [
    "##### PASS\n",
    "It is used when a statement is need, syntatically, but one doesn't need to execute any code."
   ]
  },
  {
   "cell_type": "code",
   "execution_count": 55,
   "id": "ec372f47",
   "metadata": {},
   "outputs": [
    {
     "name": "stdout",
     "output_type": "stream",
     "text": [
      "0\n",
      "Still running\n",
      "1\n",
      "Still running\n",
      "2\n",
      "Still running\n",
      "3\n",
      "Still running\n",
      "4\n",
      "Still running\n",
      "5\n",
      "Still running\n",
      "6\n",
      "Still running\n",
      "7\n",
      "Still running\n",
      "8\n",
      "Still running\n",
      "9\n",
      "Still running\n",
      "Stoped running\n"
     ]
    }
   ],
   "source": [
    "i=0\n",
    "for i in range(10):\n",
    "    print(i)\n",
    "    if(i==4):\n",
    "        pass\n",
    "    print('Still running')\n",
    "\n",
    "print('Stoped running')"
   ]
  },
  {
   "cell_type": "markdown",
   "id": "1b63aa8d",
   "metadata": {},
   "source": [
    "Notice that, if we're still building a program, but let a part to be built after, some errors may occur, and PASS statement might help solving it without being needed to write all the final code."
   ]
  },
  {
   "cell_type": "code",
   "execution_count": 57,
   "id": "e39dc646",
   "metadata": {},
   "outputs": [
    {
     "ename": "SyntaxError",
     "evalue": "unexpected EOF while parsing (<ipython-input-57-5864df84f788>, line 3)",
     "output_type": "error",
     "traceback": [
      "\u001b[1;36m  File \u001b[1;32m\"<ipython-input-57-5864df84f788>\"\u001b[1;36m, line \u001b[1;32m3\u001b[0m\n\u001b[1;33m    #A STATEMENT IS NEEDED HERE, AND WITHOUT AN ERROR WILL HAPPEN\u001b[0m\n\u001b[1;37m                                                                 ^\u001b[0m\n\u001b[1;31mSyntaxError\u001b[0m\u001b[1;31m:\u001b[0m unexpected EOF while parsing\n"
     ]
    }
   ],
   "source": [
    "#ERROR EXAMPLE\n",
    "for i in range(10):\n",
    "    #A STATEMENT IS NEEDED HERE, AND WITHOUT AN ERROR WILL HAPPEN\n",
    "print('Finished')"
   ]
  },
  {
   "cell_type": "code",
   "execution_count": 61,
   "id": "3f749b1e",
   "metadata": {},
   "outputs": [
    {
     "name": "stdout",
     "output_type": "stream",
     "text": [
      "Finished\n"
     ]
    }
   ],
   "source": [
    "#USING PASS\n",
    "for i in range(10):\n",
    "    pass\n",
    "#SINCE WE USED PASS, THE ERROR WILL NOT OCCUR BECAUSE A OPERATION IS BEING DONE\n",
    "#A NULL OPERATION IN THIS CASE\n",
    "print('Finished')"
   ]
  },
  {
   "cell_type": "markdown",
   "id": "4417ab9b",
   "metadata": {},
   "source": [
    "#### ELSE After WHILE Loops\n",
    "\n",
    "If a WHILE or FOR loop condition fails, then else code block will be executed."
   ]
  },
  {
   "cell_type": "code",
   "execution_count": 44,
   "id": "533bb54e",
   "metadata": {},
   "outputs": [
    {
     "name": "stdout",
     "output_type": "stream",
     "text": [
      "0\n",
      "1\n",
      "2\n",
      "3\n",
      "4\n",
      "Count value reached 5\n"
     ]
    }
   ],
   "source": [
    "count=0\n",
    "while(count<5):\n",
    "    print(count)\n",
    "    count +=1\n",
    "else:\n",
    "    print(\"Count value reached {}\".format(count))"
   ]
  },
  {
   "cell_type": "code",
   "execution_count": 52,
   "id": "4a18e25f",
   "metadata": {},
   "outputs": [
    {
     "name": "stdout",
     "output_type": "stream",
     "text": [
      "2\n",
      "4\n",
      "6\n",
      "8\n",
      "Executed after loop\n"
     ]
    }
   ],
   "source": [
    "for i in range(1, 10):\n",
    "    if(i%2==0):\n",
    "        print(i)\n",
    "else:\n",
    "    print(\"Executed after loop\")"
   ]
  },
  {
   "cell_type": "markdown",
   "id": "08542527",
   "metadata": {},
   "source": [
    "But, if a BREAK statement is used. The ELSE code block will not be executed."
   ]
  },
  {
   "cell_type": "code",
   "execution_count": 53,
   "id": "468a952f",
   "metadata": {},
   "outputs": [
    {
     "name": "stdout",
     "output_type": "stream",
     "text": [
      "0\n",
      "1\n",
      "2\n"
     ]
    }
   ],
   "source": [
    "count=0\n",
    "while(count<5):\n",
    "    if(count==3):\n",
    "        break\n",
    "    print(count)\n",
    "    count +=1\n",
    "else:\n",
    "    print(\"Count value reached {}\".format(count))"
   ]
  },
  {
   "cell_type": "code",
   "execution_count": 63,
   "id": "0afa69b9",
   "metadata": {},
   "outputs": [
    {
     "name": "stdout",
     "output_type": "stream",
     "text": [
      "2\n",
      "4\n",
      "6\n"
     ]
    }
   ],
   "source": [
    "for i in range(1, 10):\n",
    "    if(i%2==0):\n",
    "        print(i)\n",
    "    if(i%7==0):\n",
    "        break\n",
    "else:\n",
    "    print(\"Executed after loop\")"
   ]
  },
  {
   "cell_type": "markdown",
   "id": "ca425128",
   "metadata": {},
   "source": [
    "### Inbuilt Functions\n",
    "\n",
    "We used special words that let us make unique actions, some of them are: type(), range(), enumerate(), len() and print(). These special words are called inbuilt functions. There are a significant number of functions with different applications.\n",
    "\n",
    "Some of them have a arithmetical usage, or similar to it. Like the following ones:"
   ]
  },
  {
   "cell_type": "code",
   "execution_count": 11,
   "id": "79e108a0",
   "metadata": {},
   "outputs": [
    {
     "data": {
      "text/plain": [
       "12.34"
      ]
     },
     "execution_count": 11,
     "metadata": {},
     "output_type": "execute_result"
    }
   ],
   "source": [
    "abs(-12.34) #returns tha absolute value"
   ]
  },
  {
   "cell_type": "code",
   "execution_count": 12,
   "id": "d813e799",
   "metadata": {},
   "outputs": [
    {
     "data": {
      "text/plain": [
       "1.5"
      ]
     },
     "execution_count": 12,
     "metadata": {},
     "output_type": "execute_result"
    }
   ],
   "source": [
    "max(-2,-1.5,-1,-0.5,0,0.5,1,1.5) #returns the maximum between the arguments"
   ]
  },
  {
   "cell_type": "code",
   "execution_count": 13,
   "id": "fcda4207",
   "metadata": {},
   "outputs": [
    {
     "data": {
      "text/plain": [
       "-2"
      ]
     },
     "execution_count": 13,
     "metadata": {},
     "output_type": "execute_result"
    }
   ],
   "source": [
    "min(-2,-1.5,-1,-0.5,0,0.5,1,1.5) #returns the minimum between the arguments"
   ]
  },
  {
   "cell_type": "code",
   "execution_count": 14,
   "id": "33254810",
   "metadata": {},
   "outputs": [
    {
     "data": {
      "text/plain": [
       "8"
      ]
     },
     "execution_count": 14,
     "metadata": {},
     "output_type": "execute_result"
    }
   ],
   "source": [
    "pow(2,3) #takes the first number as base and the second as the exponent"
   ]
  },
  {
   "cell_type": "code",
   "execution_count": 17,
   "id": "fae60fb0",
   "metadata": {},
   "outputs": [
    {
     "data": {
      "text/plain": [
       "1.235"
      ]
     },
     "execution_count": 17,
     "metadata": {},
     "output_type": "execute_result"
    }
   ],
   "source": [
    "round(1.23456,3) #rounds the argument value with the number of decimals digits equals to the second argument"
   ]
  },
  {
   "cell_type": "markdown",
   "id": "cbaf1d3d",
   "metadata": {},
   "source": [
    "Others have a more specific property. <br>\n",
    "Two of the more used ones are the format() method used to format the returned string. <br>\n",
    "And the input() inbuilt function, used to get informations from the user."
   ]
  },
  {
   "cell_type": "code",
   "execution_count": 28,
   "id": "73bad00a",
   "metadata": {},
   "outputs": [
    {
     "name": "stdout",
     "output_type": "stream",
     "text": [
      "We can use the format() method to print as follows: this is the string formatted\n",
      "Or, the string can be formatted like this: this is the string formatted\n"
     ]
    }
   ],
   "source": [
    "first = \"this\"\n",
    "second =\"string\"\n",
    "third = \"formatted\"\n",
    "\n",
    "string = \"We can use the format() method to print as follows: {} is the {} {}\".format(first, second, third)\n",
    "print(string)\n",
    "\n",
    "option = \"Or, the {s} can be {f} like {t}: {t} is the {s} {f}\".format(s=second,f=third,t=first)\n",
    "print (option)"
   ]
  },
  {
   "cell_type": "code",
   "execution_count": 29,
   "id": "cf901455",
   "metadata": {},
   "outputs": [
    {
     "name": "stdout",
     "output_type": "stream",
     "text": [
      "Enter here the input: This is an important function\n"
     ]
    },
    {
     "data": {
      "text/plain": [
       "'This is an important function'"
      ]
     },
     "execution_count": 29,
     "metadata": {},
     "output_type": "execute_result"
    }
   ],
   "source": [
    "input('Enter here the input: ') #Fill the argument with what will be shown to the user"
   ]
  },
  {
   "cell_type": "code",
   "execution_count": null,
   "id": "9e1fb97d",
   "metadata": {},
   "outputs": [],
   "source": []
  }
 ],
 "metadata": {
  "kernelspec": {
   "display_name": "Python 3",
   "language": "python",
   "name": "python3"
  },
  "language_info": {
   "codemirror_mode": {
    "name": "ipython",
    "version": 3
   },
   "file_extension": ".py",
   "mimetype": "text/x-python",
   "name": "python",
   "nbconvert_exporter": "python",
   "pygments_lexer": "ipython3",
   "version": "3.8.8"
  }
 },
 "nbformat": 4,
 "nbformat_minor": 5
}
