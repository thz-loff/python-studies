{
 "cells": [
  {
   "cell_type": "markdown",
   "id": "bac8f70d",
   "metadata": {},
   "source": [
    "# Functions in Python\n",
    "\n",
    "When we want to repeat a specific action, or an other that resembles the first one, except by small changes, a function can be defined and called whenever we want the code to perform the task.\n",
    "It help us make the code cleaner and simpler, just by creating modules. This also allows us to make the code reusable and easier to debug.\n",
    "\n",
    "To define a function we have to use the keyword \"def\" "
   ]
  },
  {
   "cell_type": "code",
   "execution_count": 4,
   "id": "0b62362b",
   "metadata": {},
   "outputs": [
    {
     "name": "stdout",
     "output_type": "stream",
     "text": [
      "Hello, Thomaz! Nice to meet you!\n"
     ]
    },
    {
     "data": {
      "text/plain": [
       "'T'"
      ]
     },
     "execution_count": 4,
     "metadata": {},
     "output_type": "execute_result"
    }
   ],
   "source": [
    "def new_function(name):\n",
    "    \"\"\"\n",
    "    This is the first function we build, it greets the name passed to it as an argument. And returns the first letter.\n",
    "    \"\"\"\n",
    "    print(\"Hello, {}! Nice to meet you!\".format(name))\n",
    "    return(name[0])\n",
    "\n",
    "new_function(\"Thomaz\")"
   ]
  },
  {
   "cell_type": "markdown",
   "id": "6a4d2b5d",
   "metadata": {},
   "source": [
    "As we can see above, the function is called after it has been defined.\n",
    "\n",
    "The return() method gives what the function will return. It can be a local variable that has been created inside the function, but that we want to use out of it. It's like the result of the function. It can also return more than one argument, they wil be returned as a tuple. So, even though a function return more than one value, if we need to take only one, simply identify it using tuples indexation property.\n",
    "\n",
    "Therefore, if we use the calling of the funciton as a variable, this variable will equals the value returned."
   ]
  },
  {
   "cell_type": "code",
   "execution_count": 24,
   "id": "09810b72",
   "metadata": {},
   "outputs": [
    {
     "name": "stdout",
     "output_type": "stream",
     "text": [
      "The square of 8 is 64\n"
     ]
    }
   ],
   "source": [
    "def squared_number(n):\n",
    "    return(n*n)\n",
    "\n",
    "num = 8\n",
    "square = squared_number(num)\n",
    "print('The square of {} is {}'.format(num,square))"
   ]
  },
  {
   "cell_type": "code",
   "execution_count": 28,
   "id": "41ced4e5",
   "metadata": {},
   "outputs": [
    {
     "name": "stdout",
     "output_type": "stream",
     "text": [
      "<class 'tuple'>\n",
      "(4, 8)\n",
      "The cube of 2 is 8\n"
     ]
    }
   ],
   "source": [
    "def square_cube(n):\n",
    "    sq = n*n\n",
    "    cb = n*n*n\n",
    "    return sq,cb\n",
    "\n",
    "num = 2\n",
    "print(type(square_cube(num)))\n",
    "print(square_cube(num))\n",
    "print('The cube of {} is {}'.format(num,square_cube(num)[1])) #using tuple indexation"
   ]
  },
  {
   "cell_type": "markdown",
   "id": "381e3ee5",
   "metadata": {},
   "source": [
    "Notice that return() is different than print(). To see it let us change the inbuilt functions:"
   ]
  },
  {
   "cell_type": "code",
   "execution_count": 15,
   "id": "cda0f7dd",
   "metadata": {},
   "outputs": [
    {
     "name": "stdout",
     "output_type": "stream",
     "text": [
      "64\n",
      "The square of 8 is None\n"
     ]
    }
   ],
   "source": [
    "def squared_number(n):\n",
    "    print(n*n)\n",
    "\n",
    "num = 8\n",
    "square = squared_number(num)\n",
    "print('The square of {} is {}'.format(num,square))"
   ]
  },
  {
   "cell_type": "markdown",
   "id": "49bf2679",
   "metadata": {},
   "source": [
    "Since we didn't definded the returning value, the function returns the default value 'None'. But even though the square is evaluated."
   ]
  },
  {
   "cell_type": "markdown",
   "id": "5343bfbe",
   "metadata": {},
   "source": [
    "We also see that the function run other tasks inside of it that can provide funcionalities to the program, like printing or evaluating an arithmetic operation, or even manipulating data in different ways.\n",
    "\n",
    "If we want to execute the same task but with an other name, we may do it by calling the funciton with a different parameter that will be used as an argument:"
   ]
  },
  {
   "cell_type": "code",
   "execution_count": 6,
   "id": "0a13673c",
   "metadata": {},
   "outputs": [
    {
     "name": "stdout",
     "output_type": "stream",
     "text": [
      "Hello, William! Nice to meet you!\n"
     ]
    },
    {
     "data": {
      "text/plain": [
       "'W'"
      ]
     },
     "execution_count": 6,
     "metadata": {},
     "output_type": "execute_result"
    }
   ],
   "source": [
    "new_function(\"William\")"
   ]
  },
  {
   "cell_type": "markdown",
   "id": "cba915f0",
   "metadata": {},
   "source": [
    "We can also define funcitons without parameters, and that don't return any value, but that still does important actions."
   ]
  },
  {
   "cell_type": "code",
   "execution_count": 9,
   "id": "cada30eb",
   "metadata": {},
   "outputs": [
    {
     "name": "stdout",
     "output_type": "stream",
     "text": [
      "Hi!\n"
     ]
    }
   ],
   "source": [
    "def say_hi():\n",
    "    print(\"Hi!\")\n",
    "\n",
    "say_hi()"
   ]
  },
  {
   "cell_type": "code",
   "execution_count": 12,
   "id": "dc39a8e1",
   "metadata": {},
   "outputs": [
    {
     "name": "stdout",
     "output_type": "stream",
     "text": [
      "The number 10 is even\n"
     ]
    }
   ],
   "source": [
    "def even_or_odd(number):\n",
    "    if(number%2==0):\n",
    "        print(\"The number {} is even\".format(number))\n",
    "    else:\n",
    "        \n",
    "        print(\"The number {} is odd\".format(number))\n",
    "\n",
    "even_or_odd(10)"
   ]
  },
  {
   "cell_type": "markdown",
   "id": "53cf68cd",
   "metadata": {},
   "source": [
    "We can also define functions that have more then one parameter"
   ]
  },
  {
   "cell_type": "code",
   "execution_count": 16,
   "id": "076b543a",
   "metadata": {},
   "outputs": [
    {
     "name": "stdout",
     "output_type": "stream",
     "text": [
      "Hey, Thomaz! You are 23 years old.\n"
     ]
    }
   ],
   "source": [
    "def display_name_age(name,age):\n",
    "    print(\"Hey, {}! You are {} years old.\".format(name,age))\n",
    "    \n",
    "n = 'Thomaz'\n",
    "a = 23\n",
    "display_name_age(n,a)"
   ]
  },
  {
   "cell_type": "markdown",
   "id": "83f65768",
   "metadata": {},
   "source": [
    "### Assigning functios to variables\n",
    "\n",
    "Once a function is defined, we are able to use it as a value of a variable or even as argument of another function, as follows:"
   ]
  },
  {
   "cell_type": "code",
   "execution_count": 11,
   "id": "02c69ad1",
   "metadata": {},
   "outputs": [
    {
     "name": "stdout",
     "output_type": "stream",
     "text": [
      "<function our_function at 0x00000131FCE30550>\n",
      "This is our function!\n",
      "This is our function!\n"
     ]
    }
   ],
   "source": [
    "def our_function():\n",
    "    return (\"This is our function!\")\n",
    "a = our_function\n",
    "b = our_function()\n",
    "print(a)\n",
    "print(a())\n",
    "print(b)"
   ]
  },
  {
   "cell_type": "markdown",
   "id": "3c246049",
   "metadata": {},
   "source": [
    "It's important to notice the difference between the values of \"a\" and \"b\". As shown, \"a\" has the function as a value, not it's returned value. Therefore, to get the funciton return as value we must run the function by using the parenthesis () after the name of the function. The variable \"a\" serves as a nickname to the function, while \"b\" it's the function's returned value."
   ]
  },
  {
   "cell_type": "code",
   "execution_count": 10,
   "id": "029145e2",
   "metadata": {},
   "outputs": [
    {
     "name": "stdout",
     "output_type": "stream",
     "text": [
      "THIS IS OUR FUNCTION! IN CAPSLOCK\n"
     ]
    }
   ],
   "source": [
    "def caps_lock(func):\n",
    "    return(func.upper() + \" IN CAPSLOCK\")\n",
    "\n",
    "print(caps_lock(a())) \n",
    "#here both caps_lock function and our_function are being run, but our_function is being called by its nickname \"a\" "
   ]
  },
  {
   "cell_type": "markdown",
   "id": "fed1f857",
   "metadata": {},
   "source": [
    "#### Passing structures as arguments\n",
    "\n",
    "In addition to functions, it's possible to pass structures as arguments."
   ]
  },
  {
   "cell_type": "code",
   "execution_count": 23,
   "id": "96320dd9",
   "metadata": {
    "scrolled": true
   },
   "outputs": [
    {
     "name": "stdout",
     "output_type": "stream",
     "text": [
      "True\n",
      "True\n",
      "True\n",
      "True\n",
      "True\n"
     ]
    }
   ],
   "source": [
    "def verify_element(struct,element):\n",
    "    cont=0\n",
    "    for item in struct:\n",
    "        if item == element:\n",
    "            cont+=1\n",
    "    return (cont>0)\n",
    "\n",
    "list_ = ['a','b','c','d','e',1,2,3,4,5]\n",
    "set_ = {'a','b','c','d','e',1,2,3,4,5}\n",
    "tuple_ = ('a','b','c','d','e',1,2,3,4,5)\n",
    "dict_ = {'a':1,'b':2,'c':3,'d':4,'e':5}\n",
    "\n",
    "print(verify_element(list_,3))\n",
    "print(verify_element(set_,'d'))\n",
    "print(verify_element(tuple_,1))\n",
    "print(verify_element(dict_.values(),1))\n",
    "print(verify_element(dict_.keys(),'e'))"
   ]
  },
  {
   "cell_type": "markdown",
   "id": "ce93b6e8",
   "metadata": {},
   "source": [
    "We can also pass dictionaries, but it's important to remember that dict() requires a different aproach to navigate, as shown above, taking its values or keys."
   ]
  },
  {
   "cell_type": "markdown",
   "id": "65273be1",
   "metadata": {},
   "source": [
    "### Default Parameters\n",
    "\n",
    "When we talk about functions there are to events that are important to distinguish, the definition and the calling. In the definition of a function, we are able to define parameters, this parameters can have a default value. When a parameter has a default value it doesn't need to be passed when calling the function, but it can be passed if we want to change the value taken by the parameter. It's important to say that the parameters without default values must be on the left and the ones with default values following them, on the right."
   ]
  },
  {
   "cell_type": "code",
   "execution_count": 59,
   "id": "f95a38e7",
   "metadata": {},
   "outputs": [
    {
     "name": "stdout",
     "output_type": "stream",
     "text": [
      "The first parameter requires a value when the function is called, and it the one that was passed was: Value1\n",
      "The second don't need a parameter because we can use the: default value\n"
     ]
    }
   ],
   "source": [
    "def first_example(parameter1, parameter2=\"default value\"):\n",
    "    print(\"The first parameter requires a value when the function is called, and it the one that was passed was:\", parameter1)\n",
    "    print(\"The second don't need a parameter because we can use the:\", parameter2)\n",
    "    \n",
    "first_example(\"Value1\")"
   ]
  },
  {
   "cell_type": "code",
   "execution_count": 60,
   "id": "7a3abe47",
   "metadata": {},
   "outputs": [
    {
     "name": "stdout",
     "output_type": "stream",
     "text": [
      "Again, whe there's no default value the value is mandatory when calling the function: Value1\n",
      "But the second parameter can also be changed by passing its value in the calling of the function: Value2\n"
     ]
    }
   ],
   "source": [
    "def second_example(parameter1, parameter2=\"default value\"):\n",
    "    print(\"Again, whe there's no default value the value is mandatory when calling the function:\", parameter1)\n",
    "    print(\"But the second parameter can also be changed by passing its value in the calling of the function:\",parameter2)\n",
    "    \n",
    "second_example(\"Value1\",\"Value2\")"
   ]
  },
  {
   "cell_type": "markdown",
   "id": "7280a608",
   "metadata": {},
   "source": [
    "### Arguments: Positional and Keywords.\n",
    "\n",
    "As we saw above, functions can have multiple parameters, therefore we have to give the function multiple arguments. There are two ways of doing so. These two ways are called positional and keyword arguments. The first one consideres only the position that the arguments are passed to fill the parameters shown in the function definition in order."
   ]
  },
  {
   "cell_type": "code",
   "execution_count": 69,
   "id": "e6cc7dd6",
   "metadata": {},
   "outputs": [
    {
     "name": "stdout",
     "output_type": "stream",
     "text": [
      "Hi, Thomaz! You are 23 years old and you are a Brasilian. Your sex is Masculin.\n"
     ]
    }
   ],
   "source": [
    "def infos(name, age, nationality, sex):\n",
    "    print(\"Hi, {}! You are {} years old and you are a {}. Your sex is {}.\".format(name, age, nationality, sex))\n",
    "\n",
    "infos('Thomaz',23,\"Brasilian\",\"Masculin\")"
   ]
  },
  {
   "cell_type": "markdown",
   "id": "683dacf9",
   "metadata": {},
   "source": [
    "The second way allows us to pass every argument out of order, but we need to identify its keyword:"
   ]
  },
  {
   "cell_type": "code",
   "execution_count": 70,
   "id": "01ceccf8",
   "metadata": {},
   "outputs": [
    {
     "name": "stdout",
     "output_type": "stream",
     "text": [
      "Hi, Thomaz! You are 23 years old and you are a Brasilian. Your sex is Masculin.\n"
     ]
    }
   ],
   "source": [
    "infos(age=23,nationality=\"Brasilian\",sex=\"Masculin\",name='Thomaz')"
   ]
  },
  {
   "cell_type": "markdown",
   "id": "d52bd8dc",
   "metadata": {},
   "source": [
    "There's a way to call the function using structures. We can simply use a unique asterisk \\* for postional arguments and a double asterisk for keyword arguments \\** when calling the function. Using this strategy we can consider all values in the tuple or list as positional arguments and and all items of key and value in a dictionary as keyword arguments."
   ]
  },
  {
   "cell_type": "code",
   "execution_count": 87,
   "id": "9e417414",
   "metadata": {},
   "outputs": [
    {
     "name": "stdout",
     "output_type": "stream",
     "text": [
      "Hi, Thomaz! You are 23 years old and you are a Brasilian. Your sex is Masculin.\n",
      "None\n",
      "Hi, Thomaz! You are 23 years old and you are a Brasilian. Your sex is Masculin.\n",
      "None\n",
      "Hi, Thomaz! You are 23 years old and you are a Brasilian. Your sex is Masculin.\n",
      "None\n"
     ]
    }
   ],
   "source": [
    "tuple_info=('Thomaz',23,\"Brasilian\",\"Masculin\")\n",
    "list_info=['Thomaz',23,\"Brasilian\",\"Masculin\"]\n",
    "dict_info={'name':'Thomaz','age':23,'nationality':'Brasilian','sex':'Masculin'}\n",
    "\n",
    "print(infos(*tuple_info))\n",
    "print(infos(*list_info))\n",
    "print(infos(**dict_info))"
   ]
  },
  {
   "cell_type": "markdown",
   "id": "463b82fe",
   "metadata": {},
   "source": [
    "## Lambda Functions\n",
    "\n",
    "\n",
    "Are also called as anonymous or no-name functions because of its applications and how they are \"defined\". Lambda functions don't require a name, but they must be a simple single-line function, or single expression. Using the keyword 'lambda' and the right structure, we can implement it in our programs ans solutions as follows:"
   ]
  },
  {
   "cell_type": "code",
   "execution_count": 99,
   "id": "699cdbce",
   "metadata": {},
   "outputs": [
    {
     "name": "stdout",
     "output_type": "stream",
     "text": [
      "The sum of 1 and 4 is 5\n"
     ]
    },
    {
     "data": {
      "text/plain": [
       "<function __main__.<lambda>(var1, var2)>"
      ]
     },
     "execution_count": 99,
     "metadata": {},
     "output_type": "execute_result"
    }
   ],
   "source": [
    "a = 1\n",
    "b = 4\n",
    "print(\"The sum of {} and {} is {}\".format(a,b,(lambda var1, var2 : var1+var2)(a,b)))\n",
    "\n",
    "\n",
    "lambda var1, var2 : var1+var2"
   ]
  },
  {
   "cell_type": "markdown",
   "id": "a7550e52",
   "metadata": {},
   "source": [
    "This strategy may help in situations where we need a nameless function in a short period of the code. \n",
    "But if we need, we can assign the function to a variable, and use it as a normal function."
   ]
  },
  {
   "cell_type": "code",
   "execution_count": 100,
   "id": "b849b90a",
   "metadata": {},
   "outputs": [
    {
     "data": {
      "text/plain": [
       "10"
      ]
     },
     "execution_count": 100,
     "metadata": {},
     "output_type": "execute_result"
    }
   ],
   "source": [
    "addition =  lambda x,y:x+y\n",
    "addition(3,7)"
   ]
  },
  {
   "cell_type": "markdown",
   "id": "a37ceea6",
   "metadata": {},
   "source": [
    "It may be used in logical operations too or mixed operations"
   ]
  },
  {
   "cell_type": "code",
   "execution_count": 104,
   "id": "745a847a",
   "metadata": {},
   "outputs": [
    {
     "name": "stdout",
     "output_type": "stream",
     "text": [
      "True\n",
      "False\n",
      "False\n"
     ]
    }
   ],
   "source": [
    "greaterthan = lambda x,y: x>y\n",
    "print(greaterthan(7,3))\n",
    "print(greaterthan(3,7))\n",
    "print(greaterthan(3,3))"
   ]
  },
  {
   "cell_type": "code",
   "execution_count": 105,
   "id": "1a4c7442",
   "metadata": {},
   "outputs": [
    {
     "name": "stdout",
     "output_type": "stream",
     "text": [
      "True\n",
      "False\n"
     ]
    }
   ],
   "source": [
    "isodd = lambda x: x%2==0\n",
    "print(isodd(4))\n",
    "print(isodd(3))"
   ]
  },
  {
   "cell_type": "markdown",
   "id": "89eb7a42",
   "metadata": {},
   "source": [
    "## Map Functions\n",
    "\n",
    "When applying the same function to some items in a iterable like a list, instead of implementing loops, we can just use the map() inbuilt function together with te iterable and the function name. It actually takes a iterable and creates a new one based on a tranformation function applied to the first, the new one will have the same number of elements."
   ]
  },
  {
   "cell_type": "code",
   "execution_count": 114,
   "id": "bafb3c61",
   "metadata": {},
   "outputs": [
    {
     "data": {
      "text/plain": [
       "[\"1 isn't a multiple of 3\",\n",
       " \"2 isn't a multiple of 3\",\n",
       " '3 is a multiple of 3',\n",
       " \"4 isn't a multiple of 3\",\n",
       " \"5 isn't a multiple of 3\",\n",
       " '6 is a multiple of 3',\n",
       " \"7 isn't a multiple of 3\",\n",
       " \"8 isn't a multiple of 3\",\n",
       " '9 is a multiple of 3',\n",
       " \"10 isn't a multiple of 3\",\n",
       " \"11 isn't a multiple of 3\",\n",
       " '12 is a multiple of 3']"
      ]
     },
     "execution_count": 114,
     "metadata": {},
     "output_type": "execute_result"
    }
   ],
   "source": [
    "def multiple_of_three(num):\n",
    "    if num%3==0:\n",
    "        return \"{} is a multiple of 3\".format(num)\n",
    "    else:\n",
    "        return \"{} isn't a multiple of 3\".format(num)\n",
    "    \n",
    "list_=[1,2,3,4,5,6,7,8,9,10,11,12]\n",
    "\n",
    "map(multiple_of_three,list_) #here we are just creating the map opbject\n",
    "list(map(multiple_of_three,list_)) #in order to see the values we can convert it to a list"
   ]
  },
  {
   "cell_type": "code",
   "execution_count": 110,
   "id": "4620031d",
   "metadata": {},
   "outputs": [
    {
     "data": {
      "text/plain": [
       "[1.0, 2.0, 3.0, 4.0, 5.0, 6.0, 7.0, 8.0, 9.0, 10.0, 11.0, 12.0]"
      ]
     },
     "execution_count": 110,
     "metadata": {},
     "output_type": "execute_result"
    }
   ],
   "source": [
    "list(map(float,list_)) #we can also use inbuilt functions"
   ]
  },
  {
   "cell_type": "code",
   "execution_count": 112,
   "id": "a00fe41a",
   "metadata": {},
   "outputs": [
    {
     "data": {
      "text/plain": [
       "[-1, -2, -3, -4, -5, -6, -7, -8, -9, -10, -11, -12]"
      ]
     },
     "execution_count": 112,
     "metadata": {},
     "output_type": "execute_result"
    }
   ],
   "source": [
    "list(map(lambda x:-x,list_)) #or with lambda functions"
   ]
  },
  {
   "cell_type": "markdown",
   "id": "dbb47b09",
   "metadata": {},
   "source": [
    "## Filter Functions\n",
    "\n",
    "Similarly to the map(), the filter() function allows us to create a new iterable based on a given one. The main difference is that the filter function will restrict the new iterable with respect to a logical condition. Therefore, the new iterable can have less elements then the first."
   ]
  },
  {
   "cell_type": "code",
   "execution_count": 117,
   "id": "2a983e5d",
   "metadata": {},
   "outputs": [
    {
     "data": {
      "text/plain": [
       "<filter at 0x131febdc4c0>"
      ]
     },
     "execution_count": 117,
     "metadata": {},
     "output_type": "execute_result"
    }
   ],
   "source": [
    "def multiple_of_three(num):\n",
    "    return (num%3==0)\n",
    "    \n",
    "list_=[1,2,3,4,5,6,7,8,9,10,11,12]\n",
    "\n",
    "filter(multiple_of_three,list_) #here we are just creating the filter object"
   ]
  },
  {
   "cell_type": "code",
   "execution_count": 119,
   "id": "16b387c2",
   "metadata": {},
   "outputs": [
    {
     "data": {
      "text/plain": [
       "[3, 6, 9, 12]"
      ]
     },
     "execution_count": 119,
     "metadata": {},
     "output_type": "execute_result"
    }
   ],
   "source": [
    "list(filter(multiple_of_three,list_)) #in order to see the values we can convert it to a list"
   ]
  },
  {
   "cell_type": "markdown",
   "id": "9f8e44b4",
   "metadata": {},
   "source": [
    "#### Comparing map(  ) and filter(  )\n",
    "\n",
    "The filter uses the value True as a indicator to display the item at that postion, while map will only return the true value."
   ]
  },
  {
   "cell_type": "code",
   "execution_count": 120,
   "id": "826c9473",
   "metadata": {},
   "outputs": [
    {
     "name": "stdout",
     "output_type": "stream",
     "text": [
      "____MAP____\n",
      "[False, False, True, False, False, True, False, False, True, False, False, True]\n",
      "____FILTER____\n",
      "[3, 6, 9, 12]\n"
     ]
    }
   ],
   "source": [
    "def multiple_of_three(num):\n",
    "    return (num%3==0)\n",
    "    \n",
    "list_=[1,2,3,4,5,6,7,8,9,10,11,12]\n",
    "\n",
    "print(\"____MAP____\")\n",
    "print(list(map(multiple_of_three,list_)))\n",
    "print(\"____FILTER____\")\n",
    "print(list(filter(multiple_of_three,list_)))"
   ]
  },
  {
   "cell_type": "markdown",
   "id": "1e358683",
   "metadata": {},
   "source": []
  }
 ],
 "metadata": {
  "kernelspec": {
   "display_name": "Python 3",
   "language": "python",
   "name": "python3"
  },
  "language_info": {
   "codemirror_mode": {
    "name": "ipython",
    "version": 3
   },
   "file_extension": ".py",
   "mimetype": "text/x-python",
   "name": "python",
   "nbconvert_exporter": "python",
   "pygments_lexer": "ipython3",
   "version": "3.8.8"
  }
 },
 "nbformat": 4,
 "nbformat_minor": 5
}
