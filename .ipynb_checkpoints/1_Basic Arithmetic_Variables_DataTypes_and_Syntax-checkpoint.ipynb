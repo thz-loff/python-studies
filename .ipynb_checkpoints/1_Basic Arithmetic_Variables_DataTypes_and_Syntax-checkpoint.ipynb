{
 "cells": [
  {
   "cell_type": "markdown",
   "id": "8d20e53b",
   "metadata": {},
   "source": [
    "# Starting with basics\n",
    "## First Step: \n",
    "- Basic Arithmetic;\n",
    "- DataTypes;\n",
    "- Variables;\n",
    "- Syntax;\n",
    "+ Type Casting."
   ]
  },
  {
   "cell_type": "markdown",
   "id": "9d6ba364",
   "metadata": {},
   "source": [
    "### Numbers & Basic Arithmetic\n",
    "\n",
    "#### Sum"
   ]
  },
  {
   "cell_type": "code",
   "execution_count": 10,
   "id": "14a267be",
   "metadata": {},
   "outputs": [
    {
     "data": {
      "text/plain": [
       "2"
      ]
     },
     "execution_count": 10,
     "metadata": {},
     "output_type": "execute_result"
    }
   ],
   "source": [
    "1+1"
   ]
  },
  {
   "cell_type": "markdown",
   "id": "a41a6b00",
   "metadata": {},
   "source": [
    "#### Subtraction"
   ]
  },
  {
   "cell_type": "code",
   "execution_count": 11,
   "id": "bf53677b",
   "metadata": {},
   "outputs": [
    {
     "data": {
      "text/plain": [
       "-5"
      ]
     },
     "execution_count": 11,
     "metadata": {},
     "output_type": "execute_result"
    }
   ],
   "source": [
    "9-14"
   ]
  },
  {
   "cell_type": "markdown",
   "id": "5ee43657",
   "metadata": {},
   "source": [
    "#### Multiplication"
   ]
  },
  {
   "cell_type": "code",
   "execution_count": 2,
   "id": "da414f61",
   "metadata": {},
   "outputs": [
    {
     "data": {
      "text/plain": [
       "14"
      ]
     },
     "execution_count": 2,
     "metadata": {},
     "output_type": "execute_result"
    }
   ],
   "source": [
    "7*2"
   ]
  },
  {
   "cell_type": "markdown",
   "id": "23836d0e",
   "metadata": {},
   "source": [
    "#### Division"
   ]
  },
  {
   "cell_type": "code",
   "execution_count": 3,
   "id": "a4db6420",
   "metadata": {},
   "outputs": [
    {
     "data": {
      "text/plain": [
       "2.6666666666666665"
      ]
     },
     "execution_count": 3,
     "metadata": {},
     "output_type": "execute_result"
    }
   ],
   "source": [
    "8/3"
   ]
  },
  {
   "cell_type": "markdown",
   "id": "d6d297d6",
   "metadata": {},
   "source": [
    "#### Integer Division"
   ]
  },
  {
   "cell_type": "code",
   "execution_count": 14,
   "id": "ba755fdb",
   "metadata": {},
   "outputs": [
    {
     "data": {
      "text/plain": [
       "3"
      ]
     },
     "execution_count": 14,
     "metadata": {},
     "output_type": "execute_result"
    }
   ],
   "source": [
    "14//4"
   ]
  },
  {
   "cell_type": "markdown",
   "id": "146dc9f4",
   "metadata": {},
   "source": [
    "#### Rest of Division (Mod)"
   ]
  },
  {
   "cell_type": "code",
   "execution_count": 15,
   "id": "e4c2693d",
   "metadata": {},
   "outputs": [
    {
     "data": {
      "text/plain": [
       "2"
      ]
     },
     "execution_count": 15,
     "metadata": {},
     "output_type": "execute_result"
    }
   ],
   "source": [
    "14%4"
   ]
  },
  {
   "cell_type": "code",
   "execution_count": 6,
   "id": "ae840eb7",
   "metadata": {},
   "outputs": [
    {
     "data": {
      "text/plain": [
       "1.7999999999999963"
      ]
     },
     "execution_count": 6,
     "metadata": {},
     "output_type": "execute_result"
    }
   ],
   "source": [
    "56.4%2.1"
   ]
  },
  {
   "cell_type": "markdown",
   "id": "94391925",
   "metadata": {},
   "source": [
    "#### Power"
   ]
  },
  {
   "cell_type": "code",
   "execution_count": 17,
   "id": "806b06bb",
   "metadata": {},
   "outputs": [
    {
     "data": {
      "text/plain": [
       "64"
      ]
     },
     "execution_count": 17,
     "metadata": {},
     "output_type": "execute_result"
    }
   ],
   "source": [
    "8**2"
   ]
  },
  {
   "cell_type": "markdown",
   "id": "a40368bc",
   "metadata": {},
   "source": [
    "### Data Types\n",
    "\n",
    "#### Integers"
   ]
  },
  {
   "cell_type": "code",
   "execution_count": 19,
   "id": "0f914b38",
   "metadata": {},
   "outputs": [
    {
     "data": {
      "text/plain": [
       "int"
      ]
     },
     "execution_count": 19,
     "metadata": {},
     "output_type": "execute_result"
    }
   ],
   "source": [
    "type(1)"
   ]
  },
  {
   "cell_type": "markdown",
   "id": "0e06a5d3",
   "metadata": {},
   "source": [
    "#### Strings"
   ]
  },
  {
   "cell_type": "code",
   "execution_count": 20,
   "id": "64efe0d3",
   "metadata": {},
   "outputs": [
    {
     "data": {
      "text/plain": [
       "str"
      ]
     },
     "execution_count": 20,
     "metadata": {},
     "output_type": "execute_result"
    }
   ],
   "source": [
    "type('Unalome')"
   ]
  },
  {
   "cell_type": "markdown",
   "id": "eb4c111d",
   "metadata": {},
   "source": [
    "#### Floating values"
   ]
  },
  {
   "cell_type": "code",
   "execution_count": 22,
   "id": "0f07d15a",
   "metadata": {},
   "outputs": [
    {
     "data": {
      "text/plain": [
       "float"
      ]
     },
     "execution_count": 22,
     "metadata": {},
     "output_type": "execute_result"
    }
   ],
   "source": [
    "type(0.25)"
   ]
  },
  {
   "cell_type": "code",
   "execution_count": 1,
   "id": "aa15d322",
   "metadata": {},
   "outputs": [
    {
     "data": {
      "text/plain": [
       "float"
      ]
     },
     "execution_count": 1,
     "metadata": {},
     "output_type": "execute_result"
    }
   ],
   "source": [
    "type(14.)"
   ]
  },
  {
   "cell_type": "markdown",
   "id": "eb36eec4",
   "metadata": {},
   "source": [
    "#### Complex numbers"
   ]
  },
  {
   "cell_type": "code",
   "execution_count": 6,
   "id": "5c5583c6",
   "metadata": {},
   "outputs": [
    {
     "data": {
      "text/plain": [
       "complex"
      ]
     },
     "execution_count": 6,
     "metadata": {},
     "output_type": "execute_result"
    }
   ],
   "source": [
    "type((-1)**(1/2))"
   ]
  },
  {
   "cell_type": "code",
   "execution_count": 10,
   "id": "8840bf06",
   "metadata": {},
   "outputs": [
    {
     "data": {
      "text/plain": [
       "complex"
      ]
     },
     "execution_count": 10,
     "metadata": {},
     "output_type": "execute_result"
    }
   ],
   "source": [
    "type(14+74j)"
   ]
  },
  {
   "cell_type": "code",
   "execution_count": 11,
   "id": "b8643a17",
   "metadata": {},
   "outputs": [
    {
     "data": {
      "text/plain": [
       "complex"
      ]
     },
     "execution_count": 11,
     "metadata": {},
     "output_type": "execute_result"
    }
   ],
   "source": [
    "type(1j)"
   ]
  },
  {
   "cell_type": "markdown",
   "id": "2326f623",
   "metadata": {},
   "source": [
    "#### Booleans"
   ]
  },
  {
   "cell_type": "code",
   "execution_count": 24,
   "id": "90494278",
   "metadata": {},
   "outputs": [
    {
     "data": {
      "text/plain": [
       "bool"
      ]
     },
     "execution_count": 24,
     "metadata": {},
     "output_type": "execute_result"
    }
   ],
   "source": [
    "type(True)"
   ]
  },
  {
   "cell_type": "code",
   "execution_count": 25,
   "id": "02f1fb45",
   "metadata": {},
   "outputs": [
    {
     "data": {
      "text/plain": [
       "bool"
      ]
     },
     "execution_count": 25,
     "metadata": {},
     "output_type": "execute_result"
    }
   ],
   "source": [
    "type(False)"
   ]
  },
  {
   "cell_type": "markdown",
   "id": "49c1262c",
   "metadata": {},
   "source": [
    "#### None"
   ]
  },
  {
   "cell_type": "code",
   "execution_count": 26,
   "id": "7c026d4f",
   "metadata": {},
   "outputs": [
    {
     "data": {
      "text/plain": [
       "NoneType"
      ]
     },
     "execution_count": 26,
     "metadata": {},
     "output_type": "execute_result"
    }
   ],
   "source": [
    "type(None)"
   ]
  },
  {
   "cell_type": "markdown",
   "id": "9529ac60",
   "metadata": {},
   "source": [
    "In some cases, we'll see something as NaN, this is not a Type, it actually means \"Not a number\"."
   ]
  },
  {
   "cell_type": "markdown",
   "id": "dbf9fbe5",
   "metadata": {},
   "source": [
    "### Strings\n",
    "\n",
    "It is possible to define Strings using simple or double quotation marks\n"
   ]
  },
  {
   "cell_type": "code",
   "execution_count": 29,
   "id": "7c5b5c52",
   "metadata": {},
   "outputs": [
    {
     "data": {
      "text/plain": [
       "'Hello World'"
      ]
     },
     "execution_count": 29,
     "metadata": {},
     "output_type": "execute_result"
    }
   ],
   "source": [
    "\"Hello World\""
   ]
  },
  {
   "cell_type": "code",
   "execution_count": 30,
   "id": "6cc2b58e",
   "metadata": {},
   "outputs": [
    {
     "data": {
      "text/plain": [
       "'Hallo Welt'"
      ]
     },
     "execution_count": 30,
     "metadata": {},
     "output_type": "execute_result"
    }
   ],
   "source": [
    "'Hallo Welt'"
   ]
  },
  {
   "cell_type": "markdown",
   "id": "f8a5732e",
   "metadata": {},
   "source": [
    "### Variable Assignment\n",
    "\n",
    "We don't discriminate the type of the variable, only name it and assign its value."
   ]
  },
  {
   "cell_type": "code",
   "execution_count": 50,
   "id": "66719c7e",
   "metadata": {},
   "outputs": [],
   "source": [
    "numA = 7\n",
    "numB = 27.8\n",
    "name = 'Thomaz'"
   ]
  },
  {
   "cell_type": "code",
   "execution_count": 41,
   "id": "7e4e79b2",
   "metadata": {},
   "outputs": [
    {
     "data": {
      "text/plain": [
       "int"
      ]
     },
     "execution_count": 41,
     "metadata": {},
     "output_type": "execute_result"
    }
   ],
   "source": [
    "type(numA)"
   ]
  },
  {
   "cell_type": "code",
   "execution_count": 42,
   "id": "98cf81de",
   "metadata": {},
   "outputs": [
    {
     "data": {
      "text/plain": [
       "float"
      ]
     },
     "execution_count": 42,
     "metadata": {},
     "output_type": "execute_result"
    }
   ],
   "source": [
    "type(numB)"
   ]
  },
  {
   "cell_type": "code",
   "execution_count": 38,
   "id": "8016abda",
   "metadata": {},
   "outputs": [
    {
     "data": {
      "text/plain": [
       "str"
      ]
     },
     "execution_count": 38,
     "metadata": {},
     "output_type": "execute_result"
    }
   ],
   "source": [
    "type(name)"
   ]
  },
  {
   "cell_type": "markdown",
   "id": "f9cb50b3",
   "metadata": {},
   "source": [
    "#### Operating with Variables"
   ]
  },
  {
   "cell_type": "code",
   "execution_count": 48,
   "id": "e03d1c21",
   "metadata": {},
   "outputs": [
    {
     "name": "stdout",
     "output_type": "stream",
     "text": [
      "3725.2000000000003\n"
     ]
    }
   ],
   "source": [
    "print(numA*numB)"
   ]
  },
  {
   "cell_type": "code",
   "execution_count": 51,
   "id": "1dc0737f",
   "metadata": {},
   "outputs": [
    {
     "name": "stdout",
     "output_type": "stream",
     "text": [
      "ThomazThomazThomazThomazThomazThomazThomaz\n"
     ]
    }
   ],
   "source": [
    "print(numA*name)"
   ]
  },
  {
   "cell_type": "code",
   "execution_count": 54,
   "id": "ac547a93",
   "metadata": {},
   "outputs": [
    {
     "name": "stdout",
     "output_type": "stream",
     "text": [
      "1.251798561151079\n"
     ]
    }
   ],
   "source": [
    "print((numB+numA)/numB)"
   ]
  },
  {
   "cell_type": "markdown",
   "id": "4ea5be37",
   "metadata": {},
   "source": [
    "### More on strings"
   ]
  },
  {
   "cell_type": "code",
   "execution_count": 2,
   "id": "37baa998",
   "metadata": {},
   "outputs": [
    {
     "name": "stdout",
     "output_type": "stream",
     "text": [
      "Hello, my name is Thomaz Loff da Silva\n"
     ]
    }
   ],
   "source": [
    "first_name = \"Thomaz\"\n",
    "middle_name = \"Loff\"\n",
    "last_name = \"da Silva\"\n",
    "print(\"Hello, my name is {} {} {}\".format(first_name,middle_name,last_name))"
   ]
  },
  {
   "cell_type": "code",
   "execution_count": 56,
   "id": "31541866",
   "metadata": {},
   "outputs": [
    {
     "name": "stdout",
     "output_type": "stream",
     "text": [
      "Loff, Thomaz Loff!\n"
     ]
    }
   ],
   "source": [
    "print(\"{middle}, {first} {middle}!\".format(first = first_name, middle = middle_name))"
   ]
  },
  {
   "cell_type": "code",
   "execution_count": 3,
   "id": "63fbec31",
   "metadata": {},
   "outputs": [
    {
     "data": {
      "text/plain": [
       "8"
      ]
     },
     "execution_count": 3,
     "metadata": {},
     "output_type": "execute_result"
    }
   ],
   "source": [
    "len(last_name) #gives us the length of the string (number of characters)"
   ]
  },
  {
   "cell_type": "code",
   "execution_count": 58,
   "id": "12af4572",
   "metadata": {},
   "outputs": [
    {
     "data": {
      "text/plain": [
       "'i'"
      ]
     },
     "execution_count": 58,
     "metadata": {},
     "output_type": "execute_result"
    }
   ],
   "source": [
    "last_name[4]"
   ]
  },
  {
   "cell_type": "code",
   "execution_count": 65,
   "id": "893dcc87",
   "metadata": {},
   "outputs": [
    {
     "data": {
      "text/plain": [
       "'Silva'"
      ]
     },
     "execution_count": 65,
     "metadata": {},
     "output_type": "execute_result"
    }
   ],
   "source": [
    "last_name[3:8]"
   ]
  },
  {
   "cell_type": "code",
   "execution_count": 67,
   "id": "607c71b9",
   "metadata": {},
   "outputs": [
    {
     "data": {
      "text/plain": [
       "'Sla'"
      ]
     },
     "execution_count": 67,
     "metadata": {},
     "output_type": "execute_result"
    }
   ],
   "source": [
    "last_name[3:8:2]"
   ]
  },
  {
   "cell_type": "code",
   "execution_count": 89,
   "id": "67aa02cf",
   "metadata": {},
   "outputs": [
    {
     "data": {
      "text/plain": [
       "'avliS a'"
      ]
     },
     "execution_count": 89,
     "metadata": {},
     "output_type": "execute_result"
    }
   ],
   "source": [
    "last_name[-1:0:-1]"
   ]
  },
  {
   "cell_type": "markdown",
   "id": "a00431e3",
   "metadata": {},
   "source": [
    "### Next steps\n",
    "\n",
    "Basic data structures, conditional structures and loops"
   ]
  },
  {
   "cell_type": "code",
   "execution_count": 14,
   "id": "c429270e",
   "metadata": {},
   "outputs": [
    {
     "data": {
      "text/plain": [
       "list"
      ]
     },
     "execution_count": 14,
     "metadata": {},
     "output_type": "execute_result"
    }
   ],
   "source": [
    "l = ['n',1,2.3,'f',4,'h',last_name]\n",
    "type(l)"
   ]
  },
  {
   "cell_type": "code",
   "execution_count": 15,
   "id": "04eb81f0",
   "metadata": {},
   "outputs": [
    {
     "data": {
      "text/plain": [
       "dict"
      ]
     },
     "execution_count": 15,
     "metadata": {},
     "output_type": "execute_result"
    }
   ],
   "source": [
    "d = {'name':'Thomaz','age':23,'favorite_number':14}\n",
    "type(d)"
   ]
  },
  {
   "cell_type": "code",
   "execution_count": 122,
   "id": "955c0aaf",
   "metadata": {},
   "outputs": [
    {
     "data": {
      "text/plain": [
       "set"
      ]
     },
     "execution_count": 122,
     "metadata": {},
     "output_type": "execute_result"
    }
   ],
   "source": [
    "s = {'a',3,5,7,'f','v'}\n",
    "type(s)"
   ]
  },
  {
   "cell_type": "code",
   "execution_count": 125,
   "id": "29d72213",
   "metadata": {},
   "outputs": [
    {
     "data": {
      "text/plain": [
       "tuple"
      ]
     },
     "execution_count": 125,
     "metadata": {},
     "output_type": "execute_result"
    }
   ],
   "source": [
    "t = (1,2,3,'e','h')\n",
    "type(t)"
   ]
  },
  {
   "cell_type": "code",
   "execution_count": 129,
   "id": "595d9c36",
   "metadata": {},
   "outputs": [
    {
     "name": "stdout",
     "output_type": "stream",
     "text": [
      "-8\n"
     ]
    }
   ],
   "source": [
    "a=2\n",
    "if(a<3):\n",
    "    print(a-10)\n",
    "else:\n",
    "    print(a+10)"
   ]
  },
  {
   "cell_type": "code",
   "execution_count": 107,
   "id": "b176110d",
   "metadata": {
    "scrolled": true
   },
   "outputs": [
    {
     "name": "stdout",
     "output_type": "stream",
     "text": [
      "0\n",
      "1\n",
      "2\n",
      "3\n",
      "4\n",
      "5\n",
      "6\n",
      "7\n",
      "8\n",
      "9\n",
      "Finished\n"
     ]
    }
   ],
   "source": [
    "for i in range(10):\n",
    "        print(i)\n",
    "print(\"Finished\")"
   ]
  },
  {
   "cell_type": "code",
   "execution_count": 111,
   "id": "aff977f0",
   "metadata": {},
   "outputs": [
    {
     "name": "stdout",
     "output_type": "stream",
     "text": [
      "0\n",
      "1\n",
      "2\n",
      "3\n",
      "4\n",
      "5\n",
      "6\n",
      "7\n",
      "8\n",
      "9\n",
      "Finished\n"
     ]
    }
   ],
   "source": [
    "i=0\n",
    "while i<10:\n",
    "    print(i)\n",
    "    i+=1\n",
    "print(\"Finished\")"
   ]
  },
  {
   "cell_type": "markdown",
   "id": "1bd6a0fd",
   "metadata": {},
   "source": [
    "### Type Conversion/Type Casting\n",
    "\n",
    "In Python, it is possible to transform a variable type in another in easy ways.\n",
    "One can achieve it by to different means: explicitly or implicitly.\n",
    "\n",
    "#### Explicitly (also called as Type Casting)\n",
    "It is necessary to use an implicit function of Python, like int(); str(); float(); ..."
   ]
  },
  {
   "cell_type": "code",
   "execution_count": 95,
   "id": "5c8fa04a",
   "metadata": {},
   "outputs": [
    {
     "name": "stdout",
     "output_type": "stream",
     "text": [
      "<class 'int'>\n",
      "<class 'float'>\n",
      "<class 'str'>\n"
     ]
    }
   ],
   "source": [
    "a = 5\n",
    "b = 5.0\n",
    "c = \"5\"\n",
    "print(type(a))\n",
    "print(type(b))\n",
    "print(type(c))"
   ]
  },
  {
   "cell_type": "code",
   "execution_count": 98,
   "id": "7bf5d5ab",
   "metadata": {},
   "outputs": [
    {
     "data": {
      "text/plain": [
       "float"
      ]
     },
     "execution_count": 98,
     "metadata": {},
     "output_type": "execute_result"
    }
   ],
   "source": [
    "a = float(a) #We're changing the variable value\n",
    "type(a)"
   ]
  },
  {
   "cell_type": "code",
   "execution_count": 99,
   "id": "7a1e4b6a",
   "metadata": {},
   "outputs": [
    {
     "data": {
      "text/plain": [
       "str"
      ]
     },
     "execution_count": 99,
     "metadata": {},
     "output_type": "execute_result"
    }
   ],
   "source": [
    "b = str(b) #We're changing the variable value\n",
    "type(b)"
   ]
  },
  {
   "cell_type": "code",
   "execution_count": 101,
   "id": "06d73293",
   "metadata": {},
   "outputs": [
    {
     "data": {
      "text/plain": [
       "int"
      ]
     },
     "execution_count": 101,
     "metadata": {},
     "output_type": "execute_result"
    }
   ],
   "source": [
    "c = int(c) #We're changing the variable value\n",
    "type(c)"
   ]
  },
  {
   "cell_type": "markdown",
   "id": "6e7eb4ff",
   "metadata": {},
   "source": [
    "When type casting, data loss may occur as follows. This happens because we are forcing a datatype to fit in another properties and levels of complexity."
   ]
  },
  {
   "cell_type": "code",
   "execution_count": 105,
   "id": "ca1d072f",
   "metadata": {},
   "outputs": [
    {
     "name": "stdout",
     "output_type": "stream",
     "text": [
      "7.8 <class 'float'>\n",
      "7 <class 'int'>\n"
     ]
    }
   ],
   "source": [
    "d = 7.8\n",
    "print(d,type(d))\n",
    "d = int(d)\n",
    "print(d,type(d))"
   ]
  },
  {
   "cell_type": "code",
   "execution_count": 18,
   "id": "acdb9296",
   "metadata": {},
   "outputs": [
    {
     "name": "stdout",
     "output_type": "stream",
     "text": [
      "1.345 <class 'str'>\n",
      "1.345 <class 'float'>\n"
     ]
    }
   ],
   "source": [
    "n = \"1.345\"\n",
    "print(n,type(n))\n",
    "n = float(n)\n",
    "print(n,type(n))"
   ]
  },
  {
   "cell_type": "code",
   "execution_count": 19,
   "id": "96d64e28",
   "metadata": {},
   "outputs": [
    {
     "name": "stdout",
     "output_type": "stream",
     "text": [
      "(-5+0j)\n",
      "(-8.95+0j)\n"
     ]
    }
   ],
   "source": [
    "a = -5\n",
    "b = -8.95\n",
    "a = complex(a)\n",
    "b = complex(b)\n",
    "print(a)\n",
    "print(b)"
   ]
  },
  {
   "cell_type": "code",
   "execution_count": 40,
   "id": "7089ab46",
   "metadata": {},
   "outputs": [
    {
     "name": "stdout",
     "output_type": "stream",
     "text": [
      "c <class 'complex'>\n",
      "d <class 'int'>\n",
      "e <class 'float'>\n",
      "c+d = (5.5+1.4j) <class 'complex'>\n",
      "c+e = (7.9+1.4j) <class 'complex'>\n",
      "(2.5+1.4j) <class 'str'>\n"
     ]
    }
   ],
   "source": [
    "c = 2.5 + 1.4j\n",
    "d = 3\n",
    "e = 5.4\n",
    "print('c',type(c))\n",
    "print('d',type(d))\n",
    "print('e',type(e))\n",
    "print('c+d =',c+d,type(c+d))\n",
    "print('c+e =',c+e,type(c+e))\n",
    "c = str(c)\n",
    "print(c,type(c))"
   ]
  },
  {
   "cell_type": "markdown",
   "id": "32b5b35f",
   "metadata": {},
   "source": [
    "The conversion can be unsuccesful, as shown:"
   ]
  },
  {
   "cell_type": "code",
   "execution_count": 117,
   "id": "75059168",
   "metadata": {},
   "outputs": [
    {
     "name": "stdout",
     "output_type": "stream",
     "text": [
      "1,345 <class 'str'>\n"
     ]
    },
    {
     "ename": "ValueError",
     "evalue": "could not convert string to float: '1,345'",
     "output_type": "error",
     "traceback": [
      "\u001b[1;31m---------------------------------------------------------------------------\u001b[0m",
      "\u001b[1;31mValueError\u001b[0m                                Traceback (most recent call last)",
      "\u001b[1;32m<ipython-input-117-259fc68d375a>\u001b[0m in \u001b[0;36m<module>\u001b[1;34m\u001b[0m\n\u001b[0;32m      1\u001b[0m \u001b[0mn\u001b[0m \u001b[1;33m=\u001b[0m \u001b[1;34m\"1,345\"\u001b[0m\u001b[1;33m\u001b[0m\u001b[1;33m\u001b[0m\u001b[0m\n\u001b[0;32m      2\u001b[0m \u001b[0mprint\u001b[0m\u001b[1;33m(\u001b[0m\u001b[0mn\u001b[0m\u001b[1;33m,\u001b[0m\u001b[0mtype\u001b[0m\u001b[1;33m(\u001b[0m\u001b[0mn\u001b[0m\u001b[1;33m)\u001b[0m\u001b[1;33m)\u001b[0m\u001b[1;33m\u001b[0m\u001b[1;33m\u001b[0m\u001b[0m\n\u001b[1;32m----> 3\u001b[1;33m \u001b[0mn\u001b[0m \u001b[1;33m=\u001b[0m \u001b[0mfloat\u001b[0m\u001b[1;33m(\u001b[0m\u001b[0mn\u001b[0m\u001b[1;33m)\u001b[0m\u001b[1;33m\u001b[0m\u001b[1;33m\u001b[0m\u001b[0m\n\u001b[0m\u001b[0;32m      4\u001b[0m \u001b[0mprint\u001b[0m\u001b[1;33m(\u001b[0m\u001b[0mn\u001b[0m\u001b[1;33m,\u001b[0m\u001b[0mtype\u001b[0m\u001b[1;33m(\u001b[0m\u001b[0mn\u001b[0m\u001b[1;33m)\u001b[0m\u001b[1;33m)\u001b[0m\u001b[1;33m\u001b[0m\u001b[1;33m\u001b[0m\u001b[0m\n",
      "\u001b[1;31mValueError\u001b[0m: could not convert string to float: '1,345'"
     ]
    }
   ],
   "source": [
    "n = \"1,345\"\n",
    "print(n,type(n))\n",
    "n = float(n)\n",
    "print(n,type(n))"
   ]
  },
  {
   "cell_type": "code",
   "execution_count": 120,
   "id": "9115eae6",
   "metadata": {},
   "outputs": [
    {
     "name": "stdout",
     "output_type": "stream",
     "text": [
      "1.345 <class 'str'>\n"
     ]
    },
    {
     "ename": "ValueError",
     "evalue": "invalid literal for int() with base 10: '1.345'",
     "output_type": "error",
     "traceback": [
      "\u001b[1;31m---------------------------------------------------------------------------\u001b[0m",
      "\u001b[1;31mValueError\u001b[0m                                Traceback (most recent call last)",
      "\u001b[1;32m<ipython-input-120-c4729d5be9b1>\u001b[0m in \u001b[0;36m<module>\u001b[1;34m\u001b[0m\n\u001b[0;32m      1\u001b[0m \u001b[0mn\u001b[0m \u001b[1;33m=\u001b[0m \u001b[1;34m\"1.345\"\u001b[0m\u001b[1;33m\u001b[0m\u001b[1;33m\u001b[0m\u001b[0m\n\u001b[0;32m      2\u001b[0m \u001b[0mprint\u001b[0m\u001b[1;33m(\u001b[0m\u001b[0mn\u001b[0m\u001b[1;33m,\u001b[0m\u001b[0mtype\u001b[0m\u001b[1;33m(\u001b[0m\u001b[0mn\u001b[0m\u001b[1;33m)\u001b[0m\u001b[1;33m)\u001b[0m\u001b[1;33m\u001b[0m\u001b[1;33m\u001b[0m\u001b[0m\n\u001b[1;32m----> 3\u001b[1;33m \u001b[0mn\u001b[0m \u001b[1;33m=\u001b[0m \u001b[0mint\u001b[0m\u001b[1;33m(\u001b[0m\u001b[0mn\u001b[0m\u001b[1;33m)\u001b[0m\u001b[1;33m\u001b[0m\u001b[1;33m\u001b[0m\u001b[0m\n\u001b[0m\u001b[0;32m      4\u001b[0m \u001b[0mprint\u001b[0m\u001b[1;33m(\u001b[0m\u001b[0mn\u001b[0m\u001b[1;33m,\u001b[0m\u001b[0mtype\u001b[0m\u001b[1;33m(\u001b[0m\u001b[0mn\u001b[0m\u001b[1;33m)\u001b[0m\u001b[1;33m)\u001b[0m\u001b[1;33m\u001b[0m\u001b[1;33m\u001b[0m\u001b[0m\n",
      "\u001b[1;31mValueError\u001b[0m: invalid literal for int() with base 10: '1.345'"
     ]
    }
   ],
   "source": [
    "n = \"1.345\"\n",
    "print(n,type(n))\n",
    "n = int(n)\n",
    "print(n,type(n))"
   ]
  },
  {
   "cell_type": "code",
   "execution_count": 121,
   "id": "e65a2ebb",
   "metadata": {},
   "outputs": [
    {
     "name": "stdout",
     "output_type": "stream",
     "text": [
      "a <class 'str'>\n"
     ]
    },
    {
     "ename": "ValueError",
     "evalue": "could not convert string to float: 'a'",
     "output_type": "error",
     "traceback": [
      "\u001b[1;31m---------------------------------------------------------------------------\u001b[0m",
      "\u001b[1;31mValueError\u001b[0m                                Traceback (most recent call last)",
      "\u001b[1;32m<ipython-input-121-4532f37bf465>\u001b[0m in \u001b[0;36m<module>\u001b[1;34m\u001b[0m\n\u001b[0;32m      1\u001b[0m \u001b[0mn\u001b[0m \u001b[1;33m=\u001b[0m \u001b[1;34m\"a\"\u001b[0m\u001b[1;33m\u001b[0m\u001b[1;33m\u001b[0m\u001b[0m\n\u001b[0;32m      2\u001b[0m \u001b[0mprint\u001b[0m\u001b[1;33m(\u001b[0m\u001b[0mn\u001b[0m\u001b[1;33m,\u001b[0m\u001b[0mtype\u001b[0m\u001b[1;33m(\u001b[0m\u001b[0mn\u001b[0m\u001b[1;33m)\u001b[0m\u001b[1;33m)\u001b[0m\u001b[1;33m\u001b[0m\u001b[1;33m\u001b[0m\u001b[0m\n\u001b[1;32m----> 3\u001b[1;33m \u001b[0mn\u001b[0m \u001b[1;33m=\u001b[0m \u001b[0mfloat\u001b[0m\u001b[1;33m(\u001b[0m\u001b[0mn\u001b[0m\u001b[1;33m)\u001b[0m\u001b[1;33m\u001b[0m\u001b[1;33m\u001b[0m\u001b[0m\n\u001b[0m\u001b[0;32m      4\u001b[0m \u001b[0mprint\u001b[0m\u001b[1;33m(\u001b[0m\u001b[0mn\u001b[0m\u001b[1;33m,\u001b[0m\u001b[0mtype\u001b[0m\u001b[1;33m(\u001b[0m\u001b[0mn\u001b[0m\u001b[1;33m)\u001b[0m\u001b[1;33m)\u001b[0m\u001b[1;33m\u001b[0m\u001b[1;33m\u001b[0m\u001b[0m\n",
      "\u001b[1;31mValueError\u001b[0m: could not convert string to float: 'a'"
     ]
    }
   ],
   "source": [
    "n = \"a\"\n",
    "print(n,type(n))\n",
    "n = float(n)\n",
    "print(n,type(n))"
   ]
  },
  {
   "cell_type": "code",
   "execution_count": 125,
   "id": "d44e58d6",
   "metadata": {},
   "outputs": [
    {
     "name": "stdout",
     "output_type": "stream",
     "text": [
      "a <class 'str'>\n"
     ]
    },
    {
     "ename": "ValueError",
     "evalue": "invalid literal for int() with base 10: 'a'",
     "output_type": "error",
     "traceback": [
      "\u001b[1;31m---------------------------------------------------------------------------\u001b[0m",
      "\u001b[1;31mValueError\u001b[0m                                Traceback (most recent call last)",
      "\u001b[1;32m<ipython-input-125-04c7d36e6008>\u001b[0m in \u001b[0;36m<module>\u001b[1;34m\u001b[0m\n\u001b[0;32m      1\u001b[0m \u001b[0mn\u001b[0m \u001b[1;33m=\u001b[0m \u001b[1;34m\"a\"\u001b[0m\u001b[1;33m\u001b[0m\u001b[1;33m\u001b[0m\u001b[0m\n\u001b[0;32m      2\u001b[0m \u001b[0mprint\u001b[0m\u001b[1;33m(\u001b[0m\u001b[0mn\u001b[0m\u001b[1;33m,\u001b[0m\u001b[0mtype\u001b[0m\u001b[1;33m(\u001b[0m\u001b[0mn\u001b[0m\u001b[1;33m)\u001b[0m\u001b[1;33m)\u001b[0m\u001b[1;33m\u001b[0m\u001b[1;33m\u001b[0m\u001b[0m\n\u001b[1;32m----> 3\u001b[1;33m \u001b[0mn\u001b[0m \u001b[1;33m=\u001b[0m \u001b[0mint\u001b[0m\u001b[1;33m(\u001b[0m\u001b[0mn\u001b[0m\u001b[1;33m)\u001b[0m\u001b[1;33m\u001b[0m\u001b[1;33m\u001b[0m\u001b[0m\n\u001b[0m\u001b[0;32m      4\u001b[0m \u001b[0mprint\u001b[0m\u001b[1;33m(\u001b[0m\u001b[0mn\u001b[0m\u001b[1;33m,\u001b[0m\u001b[0mtype\u001b[0m\u001b[1;33m(\u001b[0m\u001b[0mn\u001b[0m\u001b[1;33m)\u001b[0m\u001b[1;33m)\u001b[0m\u001b[1;33m\u001b[0m\u001b[1;33m\u001b[0m\u001b[0m\n",
      "\u001b[1;31mValueError\u001b[0m: invalid literal for int() with base 10: 'a'"
     ]
    }
   ],
   "source": [
    "n = \"a\"\n",
    "print(n,type(n))\n",
    "n = int(n)\n",
    "print(n,type(n))"
   ]
  },
  {
   "cell_type": "markdown",
   "id": "dff17218",
   "metadata": {},
   "source": [
    "In some cases, where not able to execute an operation directly. The Python interpreter may have difficulties on undersanting what we except. For exemple, if we try to sum a number in string type to a number in int or float type"
   ]
  },
  {
   "cell_type": "code",
   "execution_count": 42,
   "id": "78426f63",
   "metadata": {},
   "outputs": [
    {
     "ename": "TypeError",
     "evalue": "can only concatenate str (not \"int\") to str",
     "output_type": "error",
     "traceback": [
      "\u001b[1;31m---------------------------------------------------------------------------\u001b[0m",
      "\u001b[1;31mTypeError\u001b[0m                                 Traceback (most recent call last)",
      "\u001b[1;32m<ipython-input-42-4fe27976a585>\u001b[0m in \u001b[0;36m<module>\u001b[1;34m\u001b[0m\n\u001b[0;32m      1\u001b[0m \u001b[0ms\u001b[0m \u001b[1;33m=\u001b[0m \u001b[1;34m\"5\"\u001b[0m\u001b[1;33m\u001b[0m\u001b[1;33m\u001b[0m\u001b[0m\n\u001b[0;32m      2\u001b[0m \u001b[0mi\u001b[0m \u001b[1;33m=\u001b[0m \u001b[1;36m2\u001b[0m\u001b[1;33m\u001b[0m\u001b[1;33m\u001b[0m\u001b[0m\n\u001b[1;32m----> 3\u001b[1;33m \u001b[0mprint\u001b[0m\u001b[1;33m(\u001b[0m\u001b[0ms\u001b[0m\u001b[1;33m+\u001b[0m\u001b[0mi\u001b[0m\u001b[1;33m)\u001b[0m\u001b[1;33m\u001b[0m\u001b[1;33m\u001b[0m\u001b[0m\n\u001b[0m",
      "\u001b[1;31mTypeError\u001b[0m: can only concatenate str (not \"int\") to str"
     ]
    }
   ],
   "source": [
    "s = \"5\"\n",
    "i = 2\n",
    "print(s+i)"
   ]
  },
  {
   "cell_type": "code",
   "execution_count": 45,
   "id": "6466ef57",
   "metadata": {},
   "outputs": [
    {
     "ename": "TypeError",
     "evalue": "can't convert complex to int",
     "output_type": "error",
     "traceback": [
      "\u001b[1;31m---------------------------------------------------------------------------\u001b[0m",
      "\u001b[1;31mTypeError\u001b[0m                                 Traceback (most recent call last)",
      "\u001b[1;32m<ipython-input-45-4d8541f4cf11>\u001b[0m in \u001b[0;36m<module>\u001b[1;34m\u001b[0m\n\u001b[0;32m      1\u001b[0m \u001b[0mk\u001b[0m \u001b[1;33m=\u001b[0m \u001b[1;36m2\u001b[0m \u001b[1;33m+\u001b[0m \u001b[1;36m8j\u001b[0m\u001b[1;33m\u001b[0m\u001b[1;33m\u001b[0m\u001b[0m\n\u001b[1;32m----> 2\u001b[1;33m \u001b[0mk\u001b[0m \u001b[1;33m=\u001b[0m \u001b[0mint\u001b[0m\u001b[1;33m(\u001b[0m\u001b[0mk\u001b[0m\u001b[1;33m)\u001b[0m\u001b[1;33m\u001b[0m\u001b[1;33m\u001b[0m\u001b[0m\n\u001b[0m",
      "\u001b[1;31mTypeError\u001b[0m: can't convert complex to int"
     ]
    }
   ],
   "source": [
    "k = 2 + 8j\n",
    "k = int(k)"
   ]
  },
  {
   "cell_type": "code",
   "execution_count": 46,
   "id": "0400d0a1",
   "metadata": {},
   "outputs": [
    {
     "ename": "TypeError",
     "evalue": "can't convert complex to float",
     "output_type": "error",
     "traceback": [
      "\u001b[1;31m---------------------------------------------------------------------------\u001b[0m",
      "\u001b[1;31mTypeError\u001b[0m                                 Traceback (most recent call last)",
      "\u001b[1;32m<ipython-input-46-23ff0d784b85>\u001b[0m in \u001b[0;36m<module>\u001b[1;34m\u001b[0m\n\u001b[0;32m      1\u001b[0m \u001b[0mk\u001b[0m \u001b[1;33m=\u001b[0m \u001b[1;36m2\u001b[0m \u001b[1;33m+\u001b[0m \u001b[1;36m8j\u001b[0m\u001b[1;33m\u001b[0m\u001b[1;33m\u001b[0m\u001b[0m\n\u001b[1;32m----> 2\u001b[1;33m \u001b[0mk\u001b[0m \u001b[1;33m=\u001b[0m \u001b[0mfloat\u001b[0m\u001b[1;33m(\u001b[0m\u001b[0mk\u001b[0m\u001b[1;33m)\u001b[0m\u001b[1;33m\u001b[0m\u001b[1;33m\u001b[0m\u001b[0m\n\u001b[0m",
      "\u001b[1;31mTypeError\u001b[0m: can't convert complex to float"
     ]
    }
   ],
   "source": [
    "k = 2 + 8j\n",
    "k = float(k)"
   ]
  },
  {
   "cell_type": "markdown",
   "id": "b924283a",
   "metadata": {},
   "source": [
    "In orther to achieve it, one must first do a Type Casting operation, and only then, sum them."
   ]
  },
  {
   "cell_type": "code",
   "execution_count": 128,
   "id": "171828c8",
   "metadata": {},
   "outputs": [
    {
     "name": "stdout",
     "output_type": "stream",
     "text": [
      "7\n"
     ]
    }
   ],
   "source": [
    "s = \"5\"\n",
    "i = 2\n",
    "s = int(s)\n",
    "print(s+i)"
   ]
  },
  {
   "cell_type": "markdown",
   "id": "b3a1b2b7",
   "metadata": {},
   "source": [
    "#### Implicitly\n",
    "\n",
    "The Python interpreter avoid data loss. And, therefore, if needed it will promote a lower datatype, as int, to a higher one, like float. It may happen when one use a built in arithmetic operation, function or method.\n",
    "\n",
    "Note that, if we operate any arithmetic operation between a float and a int value, the result is going to have a float type."
   ]
  },
  {
   "cell_type": "code",
   "execution_count": 94,
   "id": "6bd5eed9",
   "metadata": {},
   "outputs": [
    {
     "name": "stdout",
     "output_type": "stream",
     "text": [
      "a <class 'int'>\n",
      "b <class 'float'>\n",
      "Sum <class 'float'>\n",
      "Multiplication a*b = 6.0 <class 'float'>\n"
     ]
    }
   ],
   "source": [
    "a = 2\n",
    "b = 3.0\n",
    "print(\"a\",type(a))\n",
    "print(\"b\",type(b))\n",
    "print(\"Sum\",type(a+b)) #even though 5 is a whole number\n",
    "print(\"Multiplication a*b =\",a*b,type(a*b)) #even though 6 is a whole number"
   ]
  },
  {
   "cell_type": "markdown",
   "id": "7548bb24",
   "metadata": {},
   "source": [
    "Note that something interesting can happen when both values are int. The result of the operation is int in the sum, subtraction and multiplication, but the result of division is always a float, even if it is a whole number.\n",
    "\n",
    "Mathematically speaking, that makes sense because the division operation is not well defined in the integers set."
   ]
  },
  {
   "cell_type": "markdown",
   "id": "b4028461",
   "metadata": {},
   "source": [
    "c = 8\n",
    "d = 5\n",
    "e = 1\n",
    "print(\"c\",type(c))\n",
    "print(\"d\",type(d))\n",
    "print(\"e\",type(e))\n",
    "print(\"Sum c+d =\",c+d,type(c+d))\n",
    "print(\"Subtraction c-d =\",c-d,type(c-d))\n",
    "print(\"Multiplication c*d =\",c*d,type(c*d))\n",
    "print(\"Division c/d =\",c/d,type(c/d))\n",
    "print(\"Division c/e =\",c/e,type(c/e))"
   ]
  },
  {
   "cell_type": "markdown",
   "id": "84002ce5",
   "metadata": {},
   "source": [
    "Similarly, we can se that from integers ans float numbers we can get a complex numbers simply by taking the square root of a negative number, and them, the type wil be, implicitly, convert to a complex type"
   ]
  },
  {
   "cell_type": "code",
   "execution_count": 23,
   "id": "dfae8768",
   "metadata": {},
   "outputs": [
    {
     "name": "stdout",
     "output_type": "stream",
     "text": [
      "<class 'int'>\n",
      "<class 'float'>\n"
     ]
    }
   ],
   "source": [
    "a = -5\n",
    "b = -0.4\n",
    "print(type(a))\n",
    "print(type(b))"
   ]
  },
  {
   "cell_type": "code",
   "execution_count": 24,
   "id": "13fc9410",
   "metadata": {},
   "outputs": [
    {
     "name": "stdout",
     "output_type": "stream",
     "text": [
      "(1.3691967456605067e-16+2.23606797749979j) <class 'complex'>\n",
      "(3.8726732145403873e-17+0.6324555320336759j) <class 'complex'>\n"
     ]
    }
   ],
   "source": [
    "a = a**(1/2)\n",
    "b = b**(1/2)\n",
    "print(a,type(a))\n",
    "print(b,type(b))"
   ]
  }
 ],
 "metadata": {
  "kernelspec": {
   "display_name": "Python 3",
   "language": "python",
   "name": "python3"
  },
  "language_info": {
   "codemirror_mode": {
    "name": "ipython",
    "version": 3
   },
   "file_extension": ".py",
   "mimetype": "text/x-python",
   "name": "python",
   "nbconvert_exporter": "python",
   "pygments_lexer": "ipython3",
   "version": "3.8.8"
  }
 },
 "nbformat": 4,
 "nbformat_minor": 5
}
