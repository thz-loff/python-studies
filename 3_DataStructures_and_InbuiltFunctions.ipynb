{
 "cells": [
  {
   "cell_type": "markdown",
   "id": "4b023f81",
   "metadata": {},
   "source": [
    "# Main Data Structures and Inbuilt Functions\n",
    "## In this study we'll cover basic structures of Python languages and inbuilt functions that help us manipulate the data stored in these structures.\n",
    "- Strings;\n",
    "- Lists;\n",
    "- Sets;\n",
    "- Dictionaries;\n",
    "- Tuples."
   ]
  },
  {
   "cell_type": "markdown",
   "id": "b8d64ffd",
   "metadata": {},
   "source": [
    "### Strings\n",
    "\n",
    "Strings are object that contains a sequence od character data, and learning to manipulating those characteres is a important part of coding any program."
   ]
  },
  {
   "cell_type": "code",
   "execution_count": 117,
   "id": "9700d007",
   "metadata": {},
   "outputs": [],
   "source": [
    "first_name ='Thomaz'\n",
    "middle_name = 'Loff'\n",
    "last_name = 'da Silva'\n",
    "age=23\n",
    "complete_name = (first_name+' '+middle_name+' '+last_name)\n",
    "name_age=first_name+str(age)\n"
   ]
  },
  {
   "cell_type": "code",
   "execution_count": 40,
   "id": "3d279be7",
   "metadata": {},
   "outputs": [
    {
     "data": {
      "text/plain": [
       "6"
      ]
     },
     "execution_count": 40,
     "metadata": {},
     "output_type": "execute_result"
    }
   ],
   "source": [
    "len(first_name) #Gives us the lenght of the string, how many charecteres there are in the sequence"
   ]
  },
  {
   "cell_type": "markdown",
   "id": "f29fe13d",
   "metadata": {},
   "source": [
    "If we want to access a especific character in the sequence, simply use its index between [ ]. Remembering it goes from 0 to len(str) - 1"
   ]
  },
  {
   "cell_type": "code",
   "execution_count": 44,
   "id": "863bd68a",
   "metadata": {},
   "outputs": [
    {
     "data": {
      "text/plain": [
       "'Tz'"
      ]
     },
     "execution_count": 44,
     "metadata": {},
     "output_type": "execute_result"
    }
   ],
   "source": [
    "first_name[0] + first_name[]"
   ]
  },
  {
   "cell_type": "markdown",
   "id": "f2243a87",
   "metadata": {},
   "source": [
    "We can also iterate over strings using loops as follows"
   ]
  },
  {
   "cell_type": "code",
   "execution_count": 57,
   "id": "4c146125",
   "metadata": {},
   "outputs": [
    {
     "name": "stdout",
     "output_type": "stream",
     "text": [
      "Current character:  T\n",
      "Current character:  h\n",
      "Current character:  o\n",
      "Current character:  m\n",
      "Current character:  a\n",
      "Current character:  z\n",
      "Current character:   \n",
      "Current character:  L\n",
      "Current character:  o\n",
      "Current character:  f\n",
      "Current character:  f\n",
      "Current character:   \n",
      "Current character:  d\n",
      "Current character:  a\n",
      "Current character:   \n",
      "Current character:  S\n",
      "Current character:  i\n",
      "Current character:  l\n",
      "Current character:  v\n",
      "Current character:  a\n"
     ]
    }
   ],
   "source": [
    "for char in complete_name:\n",
    "    print('Current character: ',char)"
   ]
  },
  {
   "cell_type": "markdown",
   "id": "44b39a8a",
   "metadata": {},
   "source": [
    "#### Inbuilt string functions\n",
    "\n",
    "There many functions built in Python language to manipulate strings. To show them simply write the string variable name followed by dot '.' and press TAB. "
   ]
  },
  {
   "cell_type": "code",
   "execution_count": null,
   "id": "f3c6efa0",
   "metadata": {},
   "outputs": [],
   "source": [
    "last_name.#pressTAB"
   ]
  },
  {
   "cell_type": "code",
   "execution_count": 64,
   "id": "2ddada5f",
   "metadata": {},
   "outputs": [
    {
     "name": "stdout",
     "output_type": "stream",
     "text": [
      "['Thom', 'z Loff d', ' Silv', '']\n",
      "['Thomaz', 'Loff', 'da', 'Silva']\n"
     ]
    }
   ],
   "source": [
    "print(complete_name.split('a'))\n",
    "print(complete_name.split(' '))\n",
    "#splits the string according to the separator string, that is deleted"
   ]
  },
  {
   "cell_type": "code",
   "execution_count": 67,
   "id": "7f8172a6",
   "metadata": {},
   "outputs": [
    {
     "data": {
      "text/plain": [
       "'ThXmaz LXff da Silva'"
      ]
     },
     "execution_count": 67,
     "metadata": {},
     "output_type": "execute_result"
    }
   ],
   "source": [
    "complete_name.replace('o','X')\n",
    "#identifies the first string passed, and switches it for the new one"
   ]
  },
  {
   "cell_type": "code",
   "execution_count": 76,
   "id": "5698b813",
   "metadata": {},
   "outputs": [
    {
     "name": "stdout",
     "output_type": "stream",
     "text": [
      "THOMAZ LOFF DA SILVA\n",
      "thomaz loff da silva\n",
      "tHOMAZ lOFF DA sILVA\n"
     ]
    }
   ],
   "source": [
    "print(complete_name.upper()) #make it upper case\n",
    "print(complete_name.lower()) #make it lower case\n",
    "print(complete_name.swapcase()) #make lower into upper and upper into lower"
   ]
  },
  {
   "cell_type": "code",
   "execution_count": 230,
   "id": "e6a2b358",
   "metadata": {},
   "outputs": [
    {
     "name": "stdout",
     "output_type": "stream",
     "text": [
      "4\n",
      "13\n",
      "19\n"
     ]
    }
   ],
   "source": [
    "print(complete_name.find('a'))\n",
    "print(complete_name.find('a '))\n",
    "#finds the index of very first character of the string passed on the string evaluated\n",
    "\n",
    "#we can also identify the initial a final indexes verified\n",
    "print(complete_name.find('a',14,20))"
   ]
  },
  {
   "cell_type": "code",
   "execution_count": 90,
   "id": "ef43b225",
   "metadata": {},
   "outputs": [
    {
     "data": {
      "text/plain": [
       "3"
      ]
     },
     "execution_count": 90,
     "metadata": {},
     "output_type": "execute_result"
    }
   ],
   "source": [
    "complete_name.count('a') #count how many times the substring appears"
   ]
  },
  {
   "cell_type": "code",
   "execution_count": 99,
   "id": "7623bbec",
   "metadata": {},
   "outputs": [
    {
     "data": {
      "text/plain": [
       "'T_h_o_m_a_z'"
      ]
     },
     "execution_count": 99,
     "metadata": {},
     "output_type": "execute_result"
    }
   ],
   "source": [
    "'_'.join(first_name)\n",
    "#insert the initial string between any element of the second\n",
    "#the second string can be any iterable object"
   ]
  },
  {
   "cell_type": "code",
   "execution_count": 124,
   "id": "7131b4d6",
   "metadata": {},
   "outputs": [
    {
     "name": "stdout",
     "output_type": "stream",
     "text": [
      "True\n",
      "True\n",
      "____\n",
      "True\n",
      "False\n",
      "____\n",
      "False\n",
      "False\n",
      "True\n",
      "____\n",
      "True\n",
      "True\n",
      "False\n",
      "____\n",
      "False\n",
      "False\n",
      "____\n",
      "True\n",
      "True\n"
     ]
    }
   ],
   "source": [
    "#Some testing methods\n",
    "print(first_name.isalnum())\n",
    "print(name_age.isalnum())\n",
    "#all characters are alphanumeric\n",
    "print('____')\n",
    "print(first_name.isalpha())\n",
    "print(name_age.isalpha())\n",
    "#all characters are alphabetic/letters\n",
    "print('____')\n",
    "print(first_name.isnumeric())\n",
    "print(name_age.isnumeric())\n",
    "print(str(age).isnumeric())\n",
    "#all characters are numeric\n",
    "print('____')\n",
    "print(first_name.istitle())\n",
    "print(name_age.istitle())\n",
    "print(str(age).istitle())\n",
    "#all characters are numeric\n",
    "print('____')\n",
    "print(first_name.islower()) #all characters are lower case\n",
    "print(first_name.isupper()) #all characters are uper case\n",
    "print('____')\n",
    "print(first_name.startswith('T')) #starts with the substring\n",
    "print(first_name.endswith('z')) #ends with the substring"
   ]
  },
  {
   "cell_type": "markdown",
   "id": "0db84f88",
   "metadata": {},
   "source": [
    "##### Notice:\n",
    "All methods used don't change the initial string, it just creates a copy and than change the copy."
   ]
  },
  {
   "cell_type": "markdown",
   "id": "0f17c2b4",
   "metadata": {},
   "source": [
    "### Lists\n",
    "\n",
    "A list is a mutable data structure, and it has ordered elements. The elements are called items. Lists are defined by values between square brackets and separated by commas. [item1,item2,...]"
   ]
  },
  {
   "cell_type": "code",
   "execution_count": 160,
   "id": "d0cc4448",
   "metadata": {},
   "outputs": [
    {
     "name": "stdout",
     "output_type": "stream",
     "text": [
      "<class 'list'>\n",
      "<class 'str'>\n",
      "<class 'int'>\n",
      "<class 'float'>\n",
      "<class 'str'>\n",
      "<class 'int'>\n"
     ]
    }
   ],
   "source": [
    "one=1\n",
    "numbers = ['zero', one, 2.0, '3', 4] \n",
    "#notice that every item, has a different type\n",
    "print(type(numbers))\n",
    "print(type(numbers[0]))\n",
    "print(type(numbers[1]))\n",
    "print(type(numbers[2]))\n",
    "print(type(numbers[3]))\n",
    "print(type(numbers[4]))"
   ]
  },
  {
   "cell_type": "code",
   "execution_count": 129,
   "id": "83c56804",
   "metadata": {},
   "outputs": [
    {
     "data": {
      "text/plain": [
       "5"
      ]
     },
     "execution_count": 129,
     "metadata": {},
     "output_type": "execute_result"
    }
   ],
   "source": [
    "len(numbers)"
   ]
  },
  {
   "cell_type": "markdown",
   "id": "b1cf293d",
   "metadata": {},
   "source": [
    "We can also iterate over lists' items using loops:"
   ]
  },
  {
   "cell_type": "code",
   "execution_count": 137,
   "id": "b784eacf",
   "metadata": {},
   "outputs": [
    {
     "name": "stdout",
     "output_type": "stream",
     "text": [
      "Current number is  zero\n",
      "Current number is  1\n",
      "Current number is  2.0\n",
      "Current number is  3\n",
      "Current number is  4\n"
     ]
    }
   ],
   "source": [
    "i=0\n",
    "while i<len(numbers):\n",
    "    print(\"Current number is \", numbers[i])\n",
    "    i+=1"
   ]
  },
  {
   "cell_type": "markdown",
   "id": "145acc94",
   "metadata": {},
   "source": [
    "#### Inbuilt list functions\n",
    "\n",
    "Lists are mutable, therefore, many aplications and inbuilt functions benefits from this property."
   ]
  },
  {
   "cell_type": "code",
   "execution_count": 147,
   "id": "c028580e",
   "metadata": {},
   "outputs": [
    {
     "data": {
      "text/plain": [
       "['zero', 1, 2.0, '3', 4, '5.0']"
      ]
     },
     "execution_count": 147,
     "metadata": {},
     "output_type": "execute_result"
    }
   ],
   "source": [
    "numbers.append('5.0') #adds a new item as the last one\n",
    "numbers"
   ]
  },
  {
   "cell_type": "code",
   "execution_count": 150,
   "id": "1eb0469e",
   "metadata": {},
   "outputs": [
    {
     "data": {
      "text/plain": [
       "['zero', 1, 2.0, '3', 4]"
      ]
     },
     "execution_count": 150,
     "metadata": {},
     "output_type": "execute_result"
    }
   ],
   "source": [
    "numbers.remove('5.0') #deletes the first item corresponding to the argument\n",
    "numbers"
   ]
  },
  {
   "cell_type": "code",
   "execution_count": 161,
   "id": "9264d42c",
   "metadata": {},
   "outputs": [
    {
     "name": "stdout",
     "output_type": "stream",
     "text": [
      "zero\n"
     ]
    },
    {
     "data": {
      "text/plain": [
       "[1, 2.0, '3', 4]"
      ]
     },
     "execution_count": 161,
     "metadata": {},
     "output_type": "execute_result"
    }
   ],
   "source": [
    "print(numbers.pop(0)) #removes the value in the index passed, and return it\n",
    "numbers"
   ]
  },
  {
   "cell_type": "code",
   "execution_count": 168,
   "id": "5799ee44",
   "metadata": {},
   "outputs": [
    {
     "data": {
      "text/plain": [
       "['ZERO', 1, 2.0, '3', 4]"
      ]
     },
     "execution_count": 168,
     "metadata": {},
     "output_type": "execute_result"
    }
   ],
   "source": [
    "numbers.insert(0,'ZERO') #insert in the index passed, the item passed\n",
    "numbers"
   ]
  },
  {
   "cell_type": "code",
   "execution_count": 177,
   "id": "0d8b5db1",
   "metadata": {},
   "outputs": [
    {
     "data": {
      "text/plain": [
       "['ZERO', 1, 2.0, '3', 4, 5.0]"
      ]
     },
     "execution_count": 177,
     "metadata": {},
     "output_type": "execute_result"
    }
   ],
   "source": [
    "numbers.insert(5,5.0)\n",
    "numbers"
   ]
  },
  {
   "cell_type": "code",
   "execution_count": 185,
   "id": "8c6dcbea",
   "metadata": {},
   "outputs": [
    {
     "data": {
      "text/plain": [
       "[5.0, 4, '3', 2.0, 1, 'ZERO']"
      ]
     },
     "execution_count": 185,
     "metadata": {},
     "output_type": "execute_result"
    }
   ],
   "source": [
    "numbers.reverse() #reverse the items\n",
    "numbers"
   ]
  },
  {
   "cell_type": "code",
   "execution_count": 195,
   "id": "82594e6c",
   "metadata": {},
   "outputs": [
    {
     "data": {
      "text/plain": [
       "1"
      ]
     },
     "execution_count": 195,
     "metadata": {},
     "output_type": "execute_result"
    }
   ],
   "source": [
    "numbers.count('3') #count how many time the item appears in the list"
   ]
  },
  {
   "cell_type": "code",
   "execution_count": 202,
   "id": "beab2b8d",
   "metadata": {},
   "outputs": [
    {
     "data": {
      "text/plain": [
       "[5.0, 4, '3', 2.0, 1, 'ZERO', 6, 7, 8, 9]"
      ]
     },
     "execution_count": 202,
     "metadata": {},
     "output_type": "execute_result"
    }
   ],
   "source": [
    "more_numbers=[6,7,8,9]\n",
    "numbers.extend(more_numbers) #append items of a iterable\n",
    "numbers"
   ]
  },
  {
   "cell_type": "code",
   "execution_count": 454,
   "id": "7b5cc597",
   "metadata": {},
   "outputs": [
    {
     "name": "stdout",
     "output_type": "stream",
     "text": [
      "5\n",
      "[5.0, 4, '3', 2.0, 1, 'ZERO', 6, 7, 8, 9]\n"
     ]
    }
   ],
   "source": [
    "print(numbers.index('ZERO')) #finds the index of the item\n",
    "print(numbers)"
   ]
  },
  {
   "cell_type": "markdown",
   "id": "f2d0c97f",
   "metadata": {},
   "source": [
    "We can also clear a list, popping or removing all the elements or simply by using the clear() method. The final result will be a empty list."
   ]
  },
  {
   "cell_type": "markdown",
   "id": "b777e500",
   "metadata": {},
   "source": [
    "#### Operations with lists\n",
    "\n",
    "There are some operations that can be made with lists. For example:"
   ]
  },
  {
   "cell_type": "code",
   "execution_count": 485,
   "id": "1f312874",
   "metadata": {},
   "outputs": [
    {
     "name": "stdout",
     "output_type": "stream",
     "text": [
      "['a', 'b', 'c', 'd', 'e', 'a', 'b', 'c', 'd', 'e', 'a', 'b', 'c', 'd', 'e']\n",
      "[1, 2, 3, 4, 5, 'a', 'b', 'c', 'd', 'e']\n"
     ]
    }
   ],
   "source": [
    "abc_list=['a','b','c','d','e']\n",
    "list_123=[1,2,3,4,5]\n",
    "list_678=[6,7,8,9,10]\n",
    "list_randnum=[1,5,4,3,2]\n",
    "less_num=[1,2,3,4]\n",
    "print(abc_list*3) #concatenate three identical lists, similar to extend\n",
    "print(list_123+abc_list) #similar to extend to different lists"
   ]
  },
  {
   "cell_type": "markdown",
   "id": "846deb2f",
   "metadata": {},
   "source": [
    "We can also make logical operations, like verifying if a values is in the list, or comparing "
   ]
  },
  {
   "cell_type": "code",
   "execution_count": 486,
   "id": "40675fa9",
   "metadata": {},
   "outputs": [
    {
     "name": "stdout",
     "output_type": "stream",
     "text": [
      "True\n",
      "True\n",
      "True\n",
      "False\n"
     ]
    }
   ],
   "source": [
    "print('a' in abc_list)\n",
    "print(list_123<list_678)\n",
    "print(list_123<list_randnum)\n",
    "print(list_123<less_num)"
   ]
  },
  {
   "cell_type": "markdown",
   "id": "50faff2e",
   "metadata": {},
   "source": [
    "In the comparison, first the first two items are compared, and if they differ this determines the outcome of the comparison; if they are equal, the next two items are compared, and so on, until either sequence is exhausted."
   ]
  },
  {
   "cell_type": "markdown",
   "id": "9bcfea27",
   "metadata": {},
   "source": [
    "#### Special cases: only int or float items\n",
    "There are some functions and aplications that can be used only when every item type is int or float"
   ]
  },
  {
   "cell_type": "code",
   "execution_count": 224,
   "id": "cb97faef",
   "metadata": {},
   "outputs": [
    {
     "data": {
      "text/plain": [
       "[1, 2.4, 3.4, 4, 4.3, 4.5, 5, 7, 13.4, 14, 38, 43, 56]"
      ]
     },
     "execution_count": 224,
     "metadata": {},
     "output_type": "execute_result"
    }
   ],
   "source": [
    "list_num = [1,2.4,5,7,43,13.4,56,4.3,4.5,3.4,4,38,14]\n",
    "list_num.sort() #sort numbers in ascending order\n",
    "list_num"
   ]
  },
  {
   "cell_type": "code",
   "execution_count": 223,
   "id": "0f82fcf4",
   "metadata": {},
   "outputs": [
    {
     "data": {
      "text/plain": [
       "196.0"
      ]
     },
     "execution_count": 223,
     "metadata": {},
     "output_type": "execute_result"
    }
   ],
   "source": [
    "sum(list_num) #sum all values"
   ]
  },
  {
   "cell_type": "code",
   "execution_count": 225,
   "id": "52de46ea",
   "metadata": {},
   "outputs": [
    {
     "data": {
      "text/plain": [
       "56"
      ]
     },
     "execution_count": 225,
     "metadata": {},
     "output_type": "execute_result"
    }
   ],
   "source": [
    "max(list_num) #return the maximum value"
   ]
  },
  {
   "cell_type": "code",
   "execution_count": 226,
   "id": "98aa55e2",
   "metadata": {},
   "outputs": [
    {
     "data": {
      "text/plain": [
       "1"
      ]
     },
     "execution_count": 226,
     "metadata": {},
     "output_type": "execute_result"
    }
   ],
   "source": [
    "min(list_num) #return the minimum value"
   ]
  },
  {
   "cell_type": "markdown",
   "id": "f663df1e",
   "metadata": {},
   "source": [
    "It's important to see that most of the methods used change the original list. We must have caution with it, so we don't lose any data."
   ]
  },
  {
   "cell_type": "markdown",
   "id": "f03edd22",
   "metadata": {},
   "source": [
    "## Study of Indexes Manipulation\n",
    "\n",
    "In many of the aplications, so far, indexes are a key concept. Thus, we shall take a closer look on how to manipulate them in lists, strings and loops.\n",
    "\n",
    "#### Strings and Lists"
   ]
  },
  {
   "cell_type": "code",
   "execution_count": 362,
   "id": "15fdbd41",
   "metadata": {},
   "outputs": [],
   "source": [
    "str_ = \"This is a string\"\n",
    "list_ = ['This','is','a','list','made','of','a','lot','of','strings']"
   ]
  },
  {
   "cell_type": "markdown",
   "id": "abe73d42",
   "metadata": {},
   "source": [
    "We already now how to select a specific element in every structure showed above"
   ]
  },
  {
   "cell_type": "code",
   "execution_count": 297,
   "id": "fd8dfbfd",
   "metadata": {},
   "outputs": [
    {
     "name": "stdout",
     "output_type": "stream",
     "text": [
      "a\n",
      "made\n"
     ]
    }
   ],
   "source": [
    "print(str_[8])\n",
    "print(list_[4])"
   ]
  },
  {
   "cell_type": "markdown",
   "id": "d47d3f22",
   "metadata": {},
   "source": [
    "If needed, Python lets us return intervals instead of single elements"
   ]
  },
  {
   "cell_type": "code",
   "execution_count": 298,
   "id": "2dce9085",
   "metadata": {},
   "outputs": [
    {
     "name": "stdout",
     "output_type": "stream",
     "text": [
      "a string\n",
      "['list', 'made', 'of', 'a']\n"
     ]
    }
   ],
   "source": [
    "print(str_[8:16])\n",
    "print(list_[3:7])"
   ]
  },
  {
   "cell_type": "markdown",
   "id": "7aa6ca30",
   "metadata": {},
   "source": [
    "We can also navigate on elements backwards"
   ]
  },
  {
   "cell_type": "code",
   "execution_count": 363,
   "id": "218569f7",
   "metadata": {},
   "outputs": [
    {
     "name": "stdout",
     "output_type": "stream",
     "text": [
      "i\n",
      "a\n",
      "nirts a si\n",
      "['a', 'of', 'made']\n"
     ]
    }
   ],
   "source": [
    "#Individual element\n",
    "print(str_[-11])\n",
    "print(list_[-4])\n",
    "#Interval (notice the order is reversed)\n",
    "print(str_[-2:-12:-1])\n",
    "print(list_[-4:-7:-1])"
   ]
  },
  {
   "cell_type": "markdown",
   "id": "0184763a",
   "metadata": {},
   "source": [
    "There are inbuilt functions that can be manipulated by indexes"
   ]
  },
  {
   "cell_type": "code",
   "execution_count": 366,
   "id": "a4e6bda5",
   "metadata": {
    "scrolled": true
   },
   "outputs": [
    {
     "name": "stdout",
     "output_type": "stream",
     "text": [
      "3\n",
      "6\n",
      "3\n",
      "1\n",
      "5\n",
      "8\n"
     ]
    }
   ],
   "source": [
    "print(str_.find('s'))\n",
    "print(str_.find('s',5,8))\n",
    "\n",
    "print(str_.count('s'))\n",
    "print(str_.count('s',5,8))\n",
    "\n",
    "print(list_.index('of'))\n",
    "print(list_.index('of',7,13))\n",
    "#the indexes indicates the star and end elements evaluated\n",
    "#the restriction changed the element found"
   ]
  },
  {
   "cell_type": "markdown",
   "id": "246320fc",
   "metadata": {},
   "source": [
    "Another way to restrict the elements analysed is to restrict the interval before aplying the method, and gives us more tools to work with. For example, restrict the counting to a specific interval in lists."
   ]
  },
  {
   "cell_type": "code",
   "execution_count": 355,
   "id": "7f6deea7",
   "metadata": {},
   "outputs": [
    {
     "name": "stdout",
     "output_type": "stream",
     "text": [
      "3\n",
      "1\n",
      "2\n",
      "1\n"
     ]
    }
   ],
   "source": [
    "print(str_.count('s'))\n",
    "print(str_[5:8].count('s'))\n",
    "\n",
    "\n",
    "#the count method in lists don't have the start and argument\n",
    "#therefore, we might just restrict the interval before aplying it\n",
    "print(list_.count('a')) \n",
    "print(list_[4:10].count('a'))"
   ]
  },
  {
   "cell_type": "markdown",
   "id": "561c1027",
   "metadata": {},
   "source": [
    "We can also define the step taken. Two by two, three by three, ..."
   ]
  },
  {
   "cell_type": "code",
   "execution_count": 365,
   "id": "8b30a46f",
   "metadata": {},
   "outputs": [
    {
     "name": "stdout",
     "output_type": "stream",
     "text": [
      "acegikmoqsuwy\n",
      "zwtqnkheb\n",
      "imq\n",
      "[0, 2, 4, 6, 8]\n",
      "[9, 6, 3, 0]\n",
      "[8]\n"
     ]
    }
   ],
   "source": [
    "abc='abcdefghijklmnopqrstuvwxyz'\n",
    "nums=[0,1,2,3,4,5,6,7,8,9]\n",
    "print(abc[::2])\n",
    "print(abc[-1::-3])\n",
    "print(abc[8:20:4])\n",
    "\n",
    "print(nums[::2])\n",
    "print(nums[-1::-3])\n",
    "print(nums[8:20:4])"
   ]
  },
  {
   "cell_type": "markdown",
   "id": "bb9cf69b",
   "metadata": {},
   "source": [
    "Simarly, the same can be done to another iterables ans structures we'll see next and the ones we have already seen."
   ]
  },
  {
   "cell_type": "code",
   "execution_count": 376,
   "id": "4eaf5501",
   "metadata": {},
   "outputs": [
    {
     "name": "stdout",
     "output_type": "stream",
     "text": [
      "0 -1 -2 -3 -4 -5 -6 -7 -8 -9 \n",
      "a f k p u z \n",
      "e g i k m o q "
     ]
    }
   ],
   "source": [
    "for i in range(0,-10,-1):\n",
    "        print(i,end=\" \") #end default parameter is \\n\n",
    "        \n",
    "print('')\n",
    "        \n",
    "for letter in abc[::5]:\n",
    "        print(letter,end=\" \")\n",
    "\n",
    "print('')\n",
    "\n",
    "for letter in abc[4:18:2]:\n",
    "        print(letter,end=\" \")"
   ]
  },
  {
   "cell_type": "markdown",
   "id": "75b5d9c5",
   "metadata": {},
   "source": [
    "### Sets\n",
    "\n",
    "A set is a collection of unordered data. It is iterable, mutable and that DOESN'T allow duplicate elements. It reminds the mathematical concept of set, but it's nor equivalent, since a set can't be another set's element.\n",
    "\n",
    "Sets are declared as elements between {  } and separated by commas ','"
   ]
  },
  {
   "cell_type": "code",
   "execution_count": 522,
   "id": "3c930774",
   "metadata": {},
   "outputs": [
    {
     "name": "stdout",
     "output_type": "stream",
     "text": [
      "\n",
      "<class 'set'>\n",
      "<class 'set'>\n",
      "set()\n",
      "{'Aldous Huxley', 'Ray Bradbury', 'William Gibson', 'George Orwell'}\n"
     ]
    }
   ],
   "source": [
    "set_ = set() #Null set\n",
    "writers = {'Aldous Huxley', 'Ray Bradbury', 'George Orwell', 'William Gibson'}\n",
    "\n",
    "print('')\n",
    "\n",
    "print(type(set_))\n",
    "print(type(writers))\n",
    "\n",
    "print(set_)\n",
    "print(writers)"
   ]
  },
  {
   "cell_type": "markdown",
   "id": "579e33a4",
   "metadata": {},
   "source": [
    " As we saw earlier for lists, SETS can also store different types of variables."
   ]
  },
  {
   "cell_type": "code",
   "execution_count": 491,
   "id": "a8d8ef36",
   "metadata": {},
   "outputs": [
    {
     "name": "stdout",
     "output_type": "stream",
     "text": [
      "{1, 'A string'}\n",
      "<class 'int'> <class 'str'> \n",
      "{1.0, 'A string'}\n",
      "<class 'float'> <class 'str'> \n",
      "{1}\n",
      "{1.0}\n"
     ]
    }
   ],
   "source": [
    "astring='A string'\n",
    "aint= 1\n",
    "afloat= 1.0\n",
    "\n",
    "aset={astring,aint,afloat,1.0,1,'A string'} #with the int value first\n",
    "print(aset)\n",
    "\n",
    "for item in aset:\n",
    "    print(type(item),end=\" \")\n",
    "\n",
    "print('')\n",
    "\n",
    "aset={astring,afloat,aint,1.0,1,'A string'} #with the float vlaue first\n",
    "print(aset)\n",
    "\n",
    "for item in aset:\n",
    "    print(type(item),end=\" \")\n",
    "    \n",
    "print('')\n",
    "\n",
    "setof1s={1,1,1,1,1.0,1.0,1,1.0}\n",
    "print(setof1s)\n",
    "setof1s={1.0,1,1,1,1.0,1.0,1,1.0}\n",
    "print(setof1s)"
   ]
  },
  {
   "cell_type": "markdown",
   "id": "bc41011a",
   "metadata": {},
   "source": [
    "If we look carefully, we'll see that the set do not distinguish between the integer value (1) and the floatting value (1.0). Picking the first that appears.\n",
    "\n",
    "We can also see, that since the variables have the same values that was also passed to the set, only one unique value will appear, since sets DON'T allow duplicates.\n",
    "\n",
    "Therefore, for those two reasons, the set has only two value, a string and a integer or float value (depending on what comes first)."
   ]
  },
  {
   "cell_type": "markdown",
   "id": "745ee6d9",
   "metadata": {},
   "source": [
    "#### Nesting LISTS but not SETS\n",
    "Notice that a set CAN'T store another set, neither a list."
   ]
  },
  {
   "cell_type": "code",
   "execution_count": 426,
   "id": "a494c7a5",
   "metadata": {
    "scrolled": true
   },
   "outputs": [
    {
     "ename": "TypeError",
     "evalue": "unhashable type: 'set'",
     "output_type": "error",
     "traceback": [
      "\u001b[1;31m---------------------------------------------------------------------------\u001b[0m",
      "\u001b[1;31mTypeError\u001b[0m                                 Traceback (most recent call last)",
      "\u001b[1;32m<ipython-input-426-8670b6b786ba>\u001b[0m in \u001b[0;36m<module>\u001b[1;34m\u001b[0m\n\u001b[1;32m----> 1\u001b[1;33m \u001b[0mset_test\u001b[0m \u001b[1;33m=\u001b[0m \u001b[1;33m{\u001b[0m\u001b[0maset\u001b[0m\u001b[1;33m}\u001b[0m\u001b[1;33m\u001b[0m\u001b[1;33m\u001b[0m\u001b[0m\n\u001b[0m",
      "\u001b[1;31mTypeError\u001b[0m: unhashable type: 'set'"
     ]
    }
   ],
   "source": [
    "set_test = {aset}"
   ]
  },
  {
   "cell_type": "code",
   "execution_count": 429,
   "id": "6b2282ee",
   "metadata": {},
   "outputs": [
    {
     "ename": "TypeError",
     "evalue": "unhashable type: 'list'",
     "output_type": "error",
     "traceback": [
      "\u001b[1;31m---------------------------------------------------------------------------\u001b[0m",
      "\u001b[1;31mTypeError\u001b[0m                                 Traceback (most recent call last)",
      "\u001b[1;32m<ipython-input-429-39a4cbf39ebd>\u001b[0m in \u001b[0;36m<module>\u001b[1;34m\u001b[0m\n\u001b[0;32m      1\u001b[0m \u001b[0malist\u001b[0m\u001b[1;33m=\u001b[0m\u001b[1;33m[\u001b[0m\u001b[1;36m1.0\u001b[0m\u001b[1;33m,\u001b[0m\u001b[1;34m'list'\u001b[0m\u001b[1;33m]\u001b[0m\u001b[1;33m\u001b[0m\u001b[1;33m\u001b[0m\u001b[0m\n\u001b[0;32m      2\u001b[0m \u001b[1;33m\u001b[0m\u001b[0m\n\u001b[1;32m----> 3\u001b[1;33m \u001b[0mset_test\u001b[0m \u001b[1;33m=\u001b[0m \u001b[1;33m{\u001b[0m\u001b[0malist\u001b[0m\u001b[1;33m}\u001b[0m\u001b[1;33m\u001b[0m\u001b[1;33m\u001b[0m\u001b[0m\n\u001b[0m",
      "\u001b[1;31mTypeError\u001b[0m: unhashable type: 'list'"
     ]
    }
   ],
   "source": [
    "alist=[1.0,'list']\n",
    "\n",
    "set_test = {alist}"
   ]
  },
  {
   "cell_type": "markdown",
   "id": "5922ab71",
   "metadata": {},
   "source": [
    "#### Worth the stop\n",
    "\n",
    "Unlike SETS, the LIST structure allows us to storage sets or even other lists on it."
   ]
  },
  {
   "cell_type": "code",
   "execution_count": 442,
   "id": "2454edf1",
   "metadata": {},
   "outputs": [
    {
     "name": "stdout",
     "output_type": "stream",
     "text": [
      "[1.0, 'list', {1.0, 'A string'}]\n",
      "[1.0, 'list', {1.0, 'A string'}, [1.0, 'list', {1.0, 'A string'}]]\n",
      "<class 'float'> <class 'str'> <class 'set'> <class 'list'> "
     ]
    }
   ],
   "source": [
    "alist=[1.0,'list',aset]\n",
    "print(alist)\n",
    "\n",
    "asecondlist=[1.0,'list',aset,alist]\n",
    "print(asecondlist)\n",
    "\n",
    "for item in asecondlist:\n",
    "    print(type(item),end=\" \")"
   ]
  },
  {
   "cell_type": "markdown",
   "id": "746ba214",
   "metadata": {},
   "source": [
    "#### Returning to the study of sets\n",
    "\n",
    "Since sets are not WELL ordered, most of indexing operations won't work. But we can still iterate over sets. When iterating, a temporary order is defined, but it has no reliability for the purpose of defining the position of a given element, it is used just for extracting information of the elements content."
   ]
  },
  {
   "cell_type": "code",
   "execution_count": 450,
   "id": "8f9dcd5d",
   "metadata": {},
   "outputs": [
    {
     "ename": "TypeError",
     "evalue": "'set' object is not subscriptable",
     "output_type": "error",
     "traceback": [
      "\u001b[1;31m---------------------------------------------------------------------------\u001b[0m",
      "\u001b[1;31mTypeError\u001b[0m                                 Traceback (most recent call last)",
      "\u001b[1;32m<ipython-input-450-0086a1148000>\u001b[0m in \u001b[0;36m<module>\u001b[1;34m\u001b[0m\n\u001b[1;32m----> 1\u001b[1;33m \u001b[0mwriters\u001b[0m\u001b[1;33m[\u001b[0m\u001b[1;36m1\u001b[0m\u001b[1;33m]\u001b[0m\u001b[1;33m\u001b[0m\u001b[1;33m\u001b[0m\u001b[0m\n\u001b[0m",
      "\u001b[1;31mTypeError\u001b[0m: 'set' object is not subscriptable"
     ]
    }
   ],
   "source": [
    "writers[1]"
   ]
  },
  {
   "cell_type": "code",
   "execution_count": 451,
   "id": "1b8f9ece",
   "metadata": {},
   "outputs": [
    {
     "name": "stdout",
     "output_type": "stream",
     "text": [
      "Manuel de Barros <class 'str'>\n",
      "Kurt Vonnegut <class 'str'>\n",
      "George Orwell <class 'str'>\n",
      "Eduardo Galeano <class 'str'>\n"
     ]
    }
   ],
   "source": [
    "for item in writers:\n",
    "    print(item, type(item))"
   ]
  },
  {
   "cell_type": "markdown",
   "id": "53fc0ee0",
   "metadata": {},
   "source": [
    "#### Manipulating sets with inbuilt functions\n",
    "\n",
    "The functions are similar to the mathematical operations between sets: intersection; union; difference; verify if they are disjoint, subsets or supersets one to another... There are methods to manipulate the data inside of it to add or remove, or even to clear the set, making it has no elements, becoming a empty set."
   ]
  },
  {
   "cell_type": "code",
   "execution_count": 523,
   "id": "9aa89537",
   "metadata": {},
   "outputs": [
    {
     "name": "stdout",
     "output_type": "stream",
     "text": [
      "{'Aldous Huxley', 'Ray Bradbury', 'William Gibson', 'George Orwell'}\n",
      "{'Thomas Morus', 'Aldous Huxley', 'William Gibson', 'George Orwell', 'Ray Bradbury'}\n"
     ]
    }
   ],
   "source": [
    "print(writers)\n",
    "writers.add('Thomas Morus')\n",
    "print(writers)"
   ]
  },
  {
   "cell_type": "code",
   "execution_count": 524,
   "id": "b375ae9b",
   "metadata": {},
   "outputs": [
    {
     "name": "stdout",
     "output_type": "stream",
     "text": [
      "{'Thomas Morus', 'Aldous Huxley', 'William Gibson', 'George Orwell', 'Ray Bradbury'}\n",
      "{'Thomas Morus', 'Aldous Huxley', 'George Orwell', 'Ray Bradbury'}\n"
     ]
    }
   ],
   "source": [
    "print(writers)\n",
    "writers.remove('William Gibson')\n",
    "print(writers)"
   ]
  },
  {
   "cell_type": "code",
   "execution_count": 525,
   "id": "576e1885",
   "metadata": {},
   "outputs": [
    {
     "name": "stdout",
     "output_type": "stream",
     "text": [
      "{'Thomas Morus', 'Aldous Huxley', 'George Orwell', 'Ray Bradbury'}\n",
      "Thomas Morus\n",
      "{'Aldous Huxley', 'George Orwell', 'Ray Bradbury'}\n"
     ]
    }
   ],
   "source": [
    "print(writers)\n",
    "print(writers.pop()) #pop an arbitrary element\n",
    "print(writers)"
   ]
  },
  {
   "cell_type": "code",
   "execution_count": 528,
   "id": "ce67702e",
   "metadata": {},
   "outputs": [
    {
     "name": "stdout",
     "output_type": "stream",
     "text": [
      "{1, 2, 3}\n",
      "set()\n"
     ]
    }
   ],
   "source": [
    "set_num={1,2,3}\n",
    "print(set_num)\n",
    "set_num.clear()\n",
    "print(set_num)"
   ]
  },
  {
   "cell_type": "code",
   "execution_count": 541,
   "id": "4324c883",
   "metadata": {},
   "outputs": [
    {
     "name": "stdout",
     "output_type": "stream",
     "text": [
      "{1, 2, 3, 4, 5, 6, 7, 8, 9}\n"
     ]
    }
   ],
   "source": [
    "even={2,4,6,8}\n",
    "odd={1,3,5,7,9}\n",
    "set_num.update(odd,even)\n",
    "print(set_num)"
   ]
  },
  {
   "cell_type": "code",
   "execution_count": 560,
   "id": "ef9914dc",
   "metadata": {},
   "outputs": [
    {
     "name": "stdout",
     "output_type": "stream",
     "text": [
      "{7}\n",
      "{8, 1, 21, 13}\n",
      "{1, 21, 7, 8, 13}\n",
      "____\n",
      "{8, 2}\n",
      "set()\n"
     ]
    }
   ],
   "source": [
    "prime={2,3,5,7}\n",
    "fibonacci={1,2,3,5,8,13,21}\n",
    "\n",
    "print(prime.difference(fibonacci)) #prime - fibonacci\n",
    "print(fibonacci.difference(prime)) #fibonacci - prime\n",
    "\n",
    "print(prime.symmetric_difference(fibonacci)) #(fibonacci - prime) +(prime - fibonacci)\n",
    "\n",
    "print('____')\n",
    "\n",
    "print(even.intersection(fibonacci))\n",
    "print(even.intersection(odd))"
   ]
  },
  {
   "cell_type": "markdown",
   "id": "51cd114e",
   "metadata": {},
   "source": [
    "The methods above all have a .upgrade( ) version. This .upgrade will change the initial value with the operation result.\n",
    "\n",
    "The following methods have no .upgrade version."
   ]
  },
  {
   "cell_type": "code",
   "execution_count": 563,
   "id": "fb00f7f2",
   "metadata": {},
   "outputs": [
    {
     "name": "stdout",
     "output_type": "stream",
     "text": [
      "{2, 3, 4, 5, 6, 7, 8}\n",
      "{1, 2, 3, 5, 7, 8, 9, 13, 21}\n",
      "____\n",
      "True\n",
      "False\n",
      "____\n",
      "True\n",
      "True\n",
      "____\n",
      "False\n",
      "True\n"
     ]
    }
   ],
   "source": [
    "print(even.union(prime))\n",
    "print(fibonacci.union(odd))\n",
    "\n",
    "print('____')\n",
    "\n",
    "print(odd.issubset(set_num))\n",
    "print(prime.issubset(even))\n",
    "\n",
    "print('____')\n",
    "\n",
    "print(set_num.issuperset(even))\n",
    "print((odd.union({2})).issuperset(prime))\n",
    "\n",
    "\n",
    "print('____')\n",
    "\n",
    "print(set_num.isdisjoint(fibonacci))\n",
    "print(even.isdisjoint(odd))"
   ]
  },
  {
   "cell_type": "markdown",
   "id": "736a2789",
   "metadata": {},
   "source": [
    "### Dictionaries\n",
    "\n",
    "A dictionary is a unordered collection, mutable, but different from a set, dictionaries have indexation. The indexes are called keys and the associated elements are called values. The dictionary don't allow duplicated key entries, the values will be overwritten.\n",
    "\n",
    "To create a dictionary one has to use curly brackets {} separating two by two, keys and values, using ':' between the key and its value, and ',' between two pairs of key:value.\n",
    "\n",
    "{key1:value1 , key2:value2 , ...}"
   ]
  },
  {
   "cell_type": "code",
   "execution_count": 567,
   "id": "f3a33319",
   "metadata": {},
   "outputs": [
    {
     "data": {
      "text/plain": [
       "dict"
      ]
     },
     "execution_count": 567,
     "metadata": {},
     "output_type": "execute_result"
    }
   ],
   "source": [
    "dic={} #creates a empty dictionary\n",
    "dic=dict() #also creates a empty dictionary\n",
    "type(dic)"
   ]
  },
  {
   "cell_type": "code",
   "execution_count": 699,
   "id": "22bd380b",
   "metadata": {},
   "outputs": [
    {
     "data": {
      "text/plain": [
       "dict"
      ]
     },
     "execution_count": 699,
     "metadata": {},
     "output_type": "execute_result"
    }
   ],
   "source": [
    "dic={'name':'Thomaz','age':23,'nationality':'brazilian','occupation':'engineering student'}\n",
    "type(dic)"
   ]
  },
  {
   "cell_type": "code",
   "execution_count": 700,
   "id": "bb55ef2c",
   "metadata": {},
   "outputs": [
    {
     "data": {
      "text/plain": [
       "{'name': 'Thomaz',\n",
       " 'age': 23,\n",
       " 'nationality': 'brazilian',\n",
       " 'occupation': 'engineering student'}"
      ]
     },
     "execution_count": 700,
     "metadata": {},
     "output_type": "execute_result"
    }
   ],
   "source": [
    "dic"
   ]
  },
  {
   "cell_type": "markdown",
   "id": "90a3e707",
   "metadata": {},
   "source": [
    "Notice that, instead of indexing by integers, the indexes in dictionaries are defined by the programmer. Unless one of the indexes is defined as a integer value, taking the value of any integer valued index will result in a error since there's no order between each pair. In order to get a specific value, we must use its specific index."
   ]
  },
  {
   "cell_type": "code",
   "execution_count": 701,
   "id": "dfef4dd9",
   "metadata": {},
   "outputs": [
    {
     "ename": "KeyError",
     "evalue": "1",
     "output_type": "error",
     "traceback": [
      "\u001b[1;31m---------------------------------------------------------------------------\u001b[0m",
      "\u001b[1;31mKeyError\u001b[0m                                  Traceback (most recent call last)",
      "\u001b[1;32m<ipython-input-701-44fd7baa145e>\u001b[0m in \u001b[0;36m<module>\u001b[1;34m\u001b[0m\n\u001b[1;32m----> 1\u001b[1;33m \u001b[0mdic\u001b[0m\u001b[1;33m[\u001b[0m\u001b[1;36m1\u001b[0m\u001b[1;33m]\u001b[0m\u001b[1;33m\u001b[0m\u001b[1;33m\u001b[0m\u001b[0m\n\u001b[0m",
      "\u001b[1;31mKeyError\u001b[0m: 1"
     ]
    }
   ],
   "source": [
    "dic[1]"
   ]
  },
  {
   "cell_type": "code",
   "execution_count": 702,
   "id": "06da42e4",
   "metadata": {},
   "outputs": [
    {
     "data": {
      "text/plain": [
       "{'name': 'Thomaz',\n",
       " 'age': 23,\n",
       " 'nationality': 'brazilian',\n",
       " 'occupation': 'engineering student'}"
      ]
     },
     "execution_count": 702,
     "metadata": {},
     "output_type": "execute_result"
    }
   ],
   "source": [
    "dic"
   ]
  },
  {
   "cell_type": "markdown",
   "id": "17e01b9b",
   "metadata": {},
   "source": [
    "#### Accessing properties with inbuilt function \n"
   ]
  },
  {
   "cell_type": "code",
   "execution_count": 704,
   "id": "5ed7adc2",
   "metadata": {},
   "outputs": [
    {
     "name": "stdout",
     "output_type": "stream",
     "text": [
      "dict_keys(['name', 'age', 'nationality', 'occupation'])\n",
      "dict_values(['Thomaz', 23, 'brazilian', 'engineering student'])\n",
      "dict_items([('name', 'Thomaz'), ('age', 23), ('nationality', 'brazilian'), ('occupation', 'engineering student')])\n"
     ]
    }
   ],
   "source": [
    "print(dic.keys())\n",
    "print(dic.values())\n",
    "print(dic.items())"
   ]
  },
  {
   "cell_type": "markdown",
   "id": "2a77dfc2",
   "metadata": {},
   "source": [
    "There are different ways to add new data in the dictionary"
   ]
  },
  {
   "cell_type": "code",
   "execution_count": 705,
   "id": "06c9e8a1",
   "metadata": {},
   "outputs": [
    {
     "data": {
      "text/plain": [
       "{'name': 'Thomaz',\n",
       " 'age': 23,\n",
       " 'nationality': 'brazilian',\n",
       " 'occupation': 'engineering student',\n",
       " 'sex': 'Male'}"
      ]
     },
     "execution_count": 705,
     "metadata": {},
     "output_type": "execute_result"
    }
   ],
   "source": [
    "dic['sex']='Male' #If we choose a key that was not used yet a new item (key + value) will be created\n",
    "dic"
   ]
  },
  {
   "cell_type": "code",
   "execution_count": 706,
   "id": "b7e2454a",
   "metadata": {},
   "outputs": [
    {
     "name": "stdout",
     "output_type": "stream",
     "text": [
      "Brazil\n"
     ]
    },
    {
     "data": {
      "text/plain": [
       "{'name': 'Thomaz',\n",
       " 'age': 23,\n",
       " 'nationality': 'Brazil',\n",
       " 'occupation': 'engineering student',\n",
       " 'sex': 'Male'}"
      ]
     },
     "execution_count": 706,
     "metadata": {},
     "output_type": "execute_result"
    }
   ],
   "source": [
    "dic['nationality']='Brazil' #Choosing a existing key, the respective value will be overwritten\n",
    "print(dic['nationality'])\n",
    "dic"
   ]
  },
  {
   "cell_type": "code",
   "execution_count": 707,
   "id": "e363d5b2",
   "metadata": {},
   "outputs": [
    {
     "data": {
      "text/plain": [
       "'Thomaz'"
      ]
     },
     "execution_count": 707,
     "metadata": {},
     "output_type": "execute_result"
    }
   ],
   "source": [
    "dic.get('name') #returns the value of a given key"
   ]
  },
  {
   "cell_type": "code",
   "execution_count": 708,
   "id": "3dc2644a",
   "metadata": {},
   "outputs": [
    {
     "data": {
      "text/plain": [
       "{'name': 'Thomaz',\n",
       " 'age': 23,\n",
       " 'nationality': 'Brazil',\n",
       " 'occupation': 'engineering student',\n",
       " 'sex': 'Male',\n",
       " 'current_job': None}"
      ]
     },
     "execution_count": 708,
     "metadata": {},
     "output_type": "execute_result"
    }
   ],
   "source": [
    "dic.setdefault('current_job') #insert a new item with the given key and the default value 'None'\n",
    "dic"
   ]
  },
  {
   "cell_type": "code",
   "execution_count": 709,
   "id": "4bf0785f",
   "metadata": {},
   "outputs": [
    {
     "data": {
      "text/plain": [
       "('current_job', None)"
      ]
     },
     "execution_count": 709,
     "metadata": {},
     "output_type": "execute_result"
    }
   ],
   "source": [
    "dic.popitem() #removes the last added item on the dictionary and return its key and value as 2-tuple."
   ]
  },
  {
   "cell_type": "code",
   "execution_count": 710,
   "id": "7bb61f91",
   "metadata": {},
   "outputs": [
    {
     "name": "stdout",
     "output_type": "stream",
     "text": [
      "Male\n"
     ]
    },
    {
     "data": {
      "text/plain": [
       "{'name': 'Thomaz',\n",
       " 'age': 23,\n",
       " 'nationality': 'Brazil',\n",
       " 'occupation': 'engineering student'}"
      ]
     },
     "execution_count": 710,
     "metadata": {},
     "output_type": "execute_result"
    }
   ],
   "source": [
    "print(dic.pop('sex')) #removes the key and its value and return the value\n",
    "dic"
   ]
  },
  {
   "cell_type": "markdown",
   "id": "36f6312d",
   "metadata": {},
   "source": [
    "The method above can be used to change the key of item by poping it and using the returned value to create a new item."
   ]
  },
  {
   "cell_type": "code",
   "execution_count": 711,
   "id": "bb975564",
   "metadata": {},
   "outputs": [
    {
     "data": {
      "text/plain": [
       "{'age': 23,\n",
       " 'nationality': 'Brazil',\n",
       " 'occupation': 'engineering student',\n",
       " 'first_name': 'Thomaz'}"
      ]
     },
     "execution_count": 711,
     "metadata": {},
     "output_type": "execute_result"
    }
   ],
   "source": [
    "dic['first_name']=dic.pop('name') #changes the key from 'name' to 'first_name'\n",
    "dic"
   ]
  },
  {
   "cell_type": "markdown",
   "id": "e5b842c0",
   "metadata": {},
   "source": [
    "We can create a dictionary using the .fromkey() method"
   ]
  },
  {
   "cell_type": "code",
   "execution_count": 724,
   "id": "4a1db1fc",
   "metadata": {},
   "outputs": [
    {
     "data": {
      "text/plain": [
       "{'age': None, 'nationality': None, 'occupation': None, 'first_name': None}"
      ]
     },
     "execution_count": 724,
     "metadata": {},
     "output_type": "execute_result"
    }
   ],
   "source": [
    "keys = list(dic.keys())\n",
    "new_person = {}\n",
    "new_person.update(new_person.fromkeys(keys)) #Creates a new dict with the given keys and the default value 'None'\n",
    "new_person"
   ]
  },
  {
   "cell_type": "markdown",
   "id": "e3025782",
   "metadata": {},
   "source": [
    "#### NEST dictionaries \n",
    "Similarly to the list, we can NEST other structures in dictionaries: from other dicionaries to both lists and sets."
   ]
  },
  {
   "cell_type": "code",
   "execution_count": 712,
   "id": "7e53069e",
   "metadata": {},
   "outputs": [
    {
     "data": {
      "text/plain": [
       "{'a': 8,\n",
       " 'd': 4,\n",
       " 'e': 5,\n",
       " 'list': ['a', 'b', 'c'],\n",
       " 'set': {1, 2, 3},\n",
       " 'dictionary': {'age': 23,\n",
       "  'nationality': 'Brazil',\n",
       "  'occupation': 'engineering student',\n",
       "  'first_name': 'Thomaz'}}"
      ]
     },
     "execution_count": 712,
     "metadata": {},
     "output_type": "execute_result"
    }
   ],
   "source": [
    "list_abc = ['a','b','c']\n",
    "set_123 = {1,2,3}\n",
    "dict_ = {'a':8,'d':4,'e':5,'list':list_abc,'set':set_123,'dictionary': dic}\n",
    "dict_"
   ]
  },
  {
   "cell_type": "markdown",
   "id": "47fc5453",
   "metadata": {},
   "source": [
    "We can also NEST dictionaries inside lists, but not inside sets."
   ]
  },
  {
   "cell_type": "code",
   "execution_count": 713,
   "id": "b5bbd133",
   "metadata": {},
   "outputs": [
    {
     "data": {
      "text/plain": [
       "['a',\n",
       " 'b',\n",
       " 'c',\n",
       " {'a': 8,\n",
       "  'd': 4,\n",
       "  'e': 5,\n",
       "  'list': [...],\n",
       "  'set': {1, 2, 3},\n",
       "  'dictionary': {'age': 23,\n",
       "   'nationality': 'Brazil',\n",
       "   'occupation': 'engineering student',\n",
       "   'first_name': 'Thomaz'}}]"
      ]
     },
     "execution_count": 713,
     "metadata": {},
     "output_type": "execute_result"
    }
   ],
   "source": [
    "list_abc.append(dict_)\n",
    "list_abc"
   ]
  },
  {
   "cell_type": "code",
   "execution_count": 714,
   "id": "03df60e7",
   "metadata": {},
   "outputs": [
    {
     "ename": "TypeError",
     "evalue": "unhashable type: 'dict'",
     "output_type": "error",
     "traceback": [
      "\u001b[1;31m---------------------------------------------------------------------------\u001b[0m",
      "\u001b[1;31mTypeError\u001b[0m                                 Traceback (most recent call last)",
      "\u001b[1;32m<ipython-input-714-f2578c04d739>\u001b[0m in \u001b[0;36m<module>\u001b[1;34m\u001b[0m\n\u001b[1;32m----> 1\u001b[1;33m \u001b[0mset_123\u001b[0m\u001b[1;33m.\u001b[0m\u001b[0madd\u001b[0m\u001b[1;33m(\u001b[0m\u001b[0mdict_\u001b[0m\u001b[1;33m)\u001b[0m\u001b[1;33m\u001b[0m\u001b[1;33m\u001b[0m\u001b[0m\n\u001b[0m",
      "\u001b[1;31mTypeError\u001b[0m: unhashable type: 'dict'"
     ]
    }
   ],
   "source": [
    "set_123.add(dict_)"
   ]
  },
  {
   "cell_type": "markdown",
   "id": "004517d4",
   "metadata": {},
   "source": [
    "To get values inside nested dictionaries can be a tricky task. To acomplish such a thing, we have to define all indexes to the specific value.\n",
    "\n",
    "Suppose we want to get the value stored in the key 'occupation' of the dic dictionary, but we want to extract it from the dict_ dictionary. We must inform all the keys like a path to the data we want."
   ]
  },
  {
   "cell_type": "code",
   "execution_count": 715,
   "id": "658d9cef",
   "metadata": {},
   "outputs": [
    {
     "data": {
      "text/plain": [
       "'engineering student'"
      ]
     },
     "execution_count": 715,
     "metadata": {},
     "output_type": "execute_result"
    }
   ],
   "source": [
    "dict_['dictionary']['occupation']"
   ]
  },
  {
   "cell_type": "markdown",
   "id": "3ec8a3a2",
   "metadata": {},
   "source": [
    "#### Looping over dictionaries\n",
    "If we try to make a simple for loop in a dictionary, we might just get the keys, that we can use to get the value."
   ]
  },
  {
   "cell_type": "code",
   "execution_count": 775,
   "id": "ca1ee40f",
   "metadata": {},
   "outputs": [
    {
     "name": "stdout",
     "output_type": "stream",
     "text": [
      "The key is age and the value is 23\n",
      "The key is nationality and the value is Brazil\n",
      "The key is occupation and the value is engineering student\n",
      "The key is first_name and the value is Thomaz\n"
     ]
    }
   ],
   "source": [
    "for k in dic:\n",
    "    print(\"The key is {} and the value is {}\".format(k,dic[k]))"
   ]
  },
  {
   "cell_type": "markdown",
   "id": "3c7c5d43",
   "metadata": {},
   "source": [
    "But if we want to know also the number of iterations, therefore, the index, we can use enumerate() method "
   ]
  },
  {
   "cell_type": "code",
   "execution_count": 778,
   "id": "663d6977",
   "metadata": {},
   "outputs": [
    {
     "name": "stdout",
     "output_type": "stream",
     "text": [
      "This is the iteration #0. The key is age and the value is 23\n",
      "This is the iteration #1. The key is nationality and the value is Brazil\n",
      "This is the iteration #2. The key is occupation and the value is engineering student\n",
      "This is the iteration #3. The key is first_name and the value is Thomaz\n"
     ]
    }
   ],
   "source": [
    "for i,k in enumerate(dic):\n",
    "    print(\"This is the iteration #{}. The key is {} and the value is {}\".format(i,k,dic[k]))"
   ]
  },
  {
   "cell_type": "markdown",
   "id": "b961ebb3",
   "metadata": {},
   "source": [
    "### Tuples\n",
    "\n",
    "They are similar to LISTS: a collection of ordered elements separated by commas. But, unlike LISTS, TUPLES are immutable.\n",
    "\n",
    "A tuple is declared between parentheses ( ... , ... )"
   ]
  },
  {
   "cell_type": "code",
   "execution_count": 727,
   "id": "a026ce49",
   "metadata": {},
   "outputs": [
    {
     "name": "stdout",
     "output_type": "stream",
     "text": [
      "<class 'tuple'>\n",
      "<class 'tuple'>\n"
     ]
    }
   ],
   "source": [
    "tuple_=tuple()\n",
    "print(type(tuple_))\n",
    "tuple_=()\n",
    "print(type(tuple_))"
   ]
  },
  {
   "cell_type": "code",
   "execution_count": 729,
   "id": "c46ade46",
   "metadata": {},
   "outputs": [
    {
     "data": {
      "text/plain": [
       "('Thomaz', 23, 14.47, 23)"
      ]
     },
     "execution_count": 729,
     "metadata": {},
     "output_type": "execute_result"
    }
   ],
   "source": [
    "variable = 23\n",
    "random_tuple=('Thomaz',23,14.47,variable)\n",
    "random_tuple"
   ]
  },
  {
   "cell_type": "markdown",
   "id": "9dbe03dd",
   "metadata": {},
   "source": [
    "As we can see, duplicated values are allowed.\n",
    "But we CAN'T change any of the elements individually inside the tuple simply by using its index, nor add new items without changing all the strucutre."
   ]
  },
  {
   "cell_type": "code",
   "execution_count": 733,
   "id": "130945d1",
   "metadata": {},
   "outputs": [
    {
     "data": {
      "text/plain": [
       "'Thomaz'"
      ]
     },
     "execution_count": 733,
     "metadata": {},
     "output_type": "execute_result"
    }
   ],
   "source": [
    "random_tuple[0]"
   ]
  },
  {
   "cell_type": "code",
   "execution_count": 734,
   "id": "8ce26276",
   "metadata": {},
   "outputs": [
    {
     "ename": "TypeError",
     "evalue": "'tuple' object does not support item assignment",
     "output_type": "error",
     "traceback": [
      "\u001b[1;31m---------------------------------------------------------------------------\u001b[0m",
      "\u001b[1;31mTypeError\u001b[0m                                 Traceback (most recent call last)",
      "\u001b[1;32m<ipython-input-734-97f2329eb1a2>\u001b[0m in \u001b[0;36m<module>\u001b[1;34m\u001b[0m\n\u001b[1;32m----> 1\u001b[1;33m \u001b[0mrandom_tuple\u001b[0m\u001b[1;33m[\u001b[0m\u001b[1;36m0\u001b[0m\u001b[1;33m]\u001b[0m\u001b[1;33m=\u001b[0m\u001b[1;34m'Loff'\u001b[0m\u001b[1;33m\u001b[0m\u001b[1;33m\u001b[0m\u001b[0m\n\u001b[0m",
      "\u001b[1;31mTypeError\u001b[0m: 'tuple' object does not support item assignment"
     ]
    }
   ],
   "source": [
    "random_tuple[0]='Loff'"
   ]
  },
  {
   "cell_type": "code",
   "execution_count": 738,
   "id": "a455579e",
   "metadata": {},
   "outputs": [
    {
     "data": {
      "text/plain": [
       "('Loff', 23, 14.47, 23)"
      ]
     },
     "execution_count": 738,
     "metadata": {},
     "output_type": "execute_result"
    }
   ],
   "source": [
    "random_tuple=('Loff',23,14.47,variable) #We have to redefine the variable\n",
    "random_tuple"
   ]
  },
  {
   "cell_type": "markdown",
   "id": "28939ce5",
   "metadata": {},
   "source": [
    "#### Inbuilt operations for Tuples\n",
    "There are only two main methods for tuples in Python: count() and index()"
   ]
  },
  {
   "cell_type": "code",
   "execution_count": 740,
   "id": "59b58160",
   "metadata": {},
   "outputs": [
    {
     "data": {
      "text/plain": [
       "2"
      ]
     },
     "execution_count": 740,
     "metadata": {},
     "output_type": "execute_result"
    }
   ],
   "source": [
    "random_tuple.count(23) #Total of equal elements that has the value 23"
   ]
  },
  {
   "cell_type": "code",
   "execution_count": 743,
   "id": "1e6f4df1",
   "metadata": {},
   "outputs": [
    {
     "name": "stdout",
     "output_type": "stream",
     "text": [
      "1\n",
      "3\n"
     ]
    }
   ],
   "source": [
    "print(random_tuple.index(23)) #The index of the first elements that has the value 23\n",
    "print(random_tuple.index(23,3)) #The second argument defines the initial index of evaluation"
   ]
  },
  {
   "cell_type": "markdown",
   "id": "8d667428",
   "metadata": {},
   "source": [
    "#### Nested tuples: storaging other data structures inside tuples"
   ]
  },
  {
   "cell_type": "markdown",
   "id": "01f1996b",
   "metadata": {},
   "source": [
    "As we see, all structures can store each other, the set being the exception."
   ]
  },
  {
   "cell_type": "code",
   "execution_count": 764,
   "id": "7dcfecc1",
   "metadata": {},
   "outputs": [
    {
     "ename": "TypeError",
     "evalue": "unhashable type: 'list'",
     "output_type": "error",
     "traceback": [
      "\u001b[1;31m---------------------------------------------------------------------------\u001b[0m",
      "\u001b[1;31mTypeError\u001b[0m                                 Traceback (most recent call last)",
      "\u001b[1;32m<ipython-input-764-d0e2961ec791>\u001b[0m in \u001b[0;36m<module>\u001b[1;34m\u001b[0m\n\u001b[1;32m----> 1\u001b[1;33m \u001b[0mset__\u001b[0m\u001b[1;33m=\u001b[0m \u001b[1;33m{\u001b[0m\u001b[0matuple\u001b[0m\u001b[1;33m}\u001b[0m\u001b[1;33m\u001b[0m\u001b[1;33m\u001b[0m\u001b[0m\n\u001b[0m\u001b[0;32m      2\u001b[0m \u001b[0mset__\u001b[0m\u001b[1;33m\u001b[0m\u001b[1;33m\u001b[0m\u001b[0m\n",
      "\u001b[1;31mTypeError\u001b[0m: unhashable type: 'list'"
     ]
    }
   ],
   "source": [
    "set__= {atuple}\n",
    "set__"
   ]
  },
  {
   "cell_type": "code",
   "execution_count": 765,
   "id": "3bb10dc1",
   "metadata": {},
   "outputs": [
    {
     "name": "stdout",
     "output_type": "stream",
     "text": [
      "[1.0, 'list', {1.0, 'A string'}, (1, 2.0, 'Three', 23, [...], {1.0, 'A string'}, {'age': 23, 'nationality': 'Brazil', 'occupation': 'engineering student', 'first_name': 'Thomaz'}), (1, 2.0, 'Three', 23, [...], {1.0, 'A string'}, {'age': 23, 'nationality': 'Brazil', 'occupation': 'engineering student', 'first_name': 'Thomaz'}), (1, 2.0, 'Three', 23, [...], {1.0, 'A string'}, {'age': 23, 'nationality': 'Brazil', 'occupation': 'engineering student', 'first_name': 'Thomaz'}), (1, 2.0, 'Three', 23, [...], {1.0, 'A string'}, {'age': 23, 'nationality': 'Brazil', 'occupation': 'engineering student', 'first_name': 'Thomaz'}), (1, 2.0, 'Three', 23, [...], {1.0, 'A string'}, {'age': 23, 'nationality': 'Brazil', 'occupation': 'engineering student', 'first_name': 'Thomaz'})]\n",
      "{1.0, 'A string'}\n",
      "{'a': 8, 'd': 4, 'e': 5, 'list': ['a', 'b', 'c', {...}], 'set': {1, 2, 3}, 'dictionary': {'age': 23, 'nationality': 'Brazil', 'occupation': 'engineering student', 'first_name': 'Thomaz'}, 'tuple': (1, 2.0, 'Three', 23, [1.0, 'list', {1.0, 'A string'}, (1, 2.0, 'Three', 23, [...], {1.0, 'A string'}, {'age': 23, 'nationality': 'Brazil', 'occupation': 'engineering student', 'first_name': 'Thomaz'}), (1, 2.0, 'Three', 23, [...], {1.0, 'A string'}, {'age': 23, 'nationality': 'Brazil', 'occupation': 'engineering student', 'first_name': 'Thomaz'}), (1, 2.0, 'Three', 23, [...], {1.0, 'A string'}, {'age': 23, 'nationality': 'Brazil', 'occupation': 'engineering student', 'first_name': 'Thomaz'}), (1, 2.0, 'Three', 23, [...], {1.0, 'A string'}, {'age': 23, 'nationality': 'Brazil', 'occupation': 'engineering student', 'first_name': 'Thomaz'}), (...)], {1.0, 'A string'}, {'age': 23, 'nationality': 'Brazil', 'occupation': 'engineering student', 'first_name': 'Thomaz'})}\n",
      "____\n",
      "(1, 2.0, 'Three', 23, [1.0, 'list', {1.0, 'A string'}, (1, 2.0, 'Three', 23, [...], {1.0, 'A string'}, {'age': 23, 'nationality': 'Brazil', 'occupation': 'engineering student', 'first_name': 'Thomaz'}), (1, 2.0, 'Three', 23, [...], {1.0, 'A string'}, {'age': 23, 'nationality': 'Brazil', 'occupation': 'engineering student', 'first_name': 'Thomaz'}), (1, 2.0, 'Three', 23, [...], {1.0, 'A string'}, {'age': 23, 'nationality': 'Brazil', 'occupation': 'engineering student', 'first_name': 'Thomaz'}), (1, 2.0, 'Three', 23, [...], {1.0, 'A string'}, {'age': 23, 'nationality': 'Brazil', 'occupation': 'engineering student', 'first_name': 'Thomaz'}), (1, 2.0, 'Three', 23, [...], {1.0, 'A string'}, {'age': 23, 'nationality': 'Brazil', 'occupation': 'engineering student', 'first_name': 'Thomaz'})], {1.0, 'A string'}, {'age': 23, 'nationality': 'Brazil', 'occupation': 'engineering student', 'first_name': 'Thomaz'})\n",
      "____\n",
      "[1.0, 'list', {1.0, 'A string'}, (1, 2.0, 'Three', 23, [...], {1.0, 'A string'}, {'age': 23, 'nationality': 'Brazil', 'occupation': 'engineering student', 'first_name': 'Thomaz'}), (1, 2.0, 'Three', 23, [...], {1.0, 'A string'}, {'age': 23, 'nationality': 'Brazil', 'occupation': 'engineering student', 'first_name': 'Thomaz'}), (1, 2.0, 'Three', 23, [...], {1.0, 'A string'}, {'age': 23, 'nationality': 'Brazil', 'occupation': 'engineering student', 'first_name': 'Thomaz'}), (1, 2.0, 'Three', 23, [...], {1.0, 'A string'}, {'age': 23, 'nationality': 'Brazil', 'occupation': 'engineering student', 'first_name': 'Thomaz'}), (1, 2.0, 'Three', 23, [...], {1.0, 'A string'}, {'age': 23, 'nationality': 'Brazil', 'occupation': 'engineering student', 'first_name': 'Thomaz'}), (1, 2.0, 'Three', 23, [...], {1.0, 'A string'}, {'age': 23, 'nationality': 'Brazil', 'occupation': 'engineering student', 'first_name': 'Thomaz'})]\n",
      "____\n",
      "{'a': 8, 'd': 4, 'e': 5, 'list': ['a', 'b', 'c', {...}], 'set': {1, 2, 3}, 'dictionary': {'age': 23, 'nationality': 'Brazil', 'occupation': 'engineering student', 'first_name': 'Thomaz'}, 'tuple': (1, 2.0, 'Three', 23, [1.0, 'list', {1.0, 'A string'}, (1, 2.0, 'Three', 23, [...], {1.0, 'A string'}, {'age': 23, 'nationality': 'Brazil', 'occupation': 'engineering student', 'first_name': 'Thomaz'}), (1, 2.0, 'Three', 23, [...], {1.0, 'A string'}, {'age': 23, 'nationality': 'Brazil', 'occupation': 'engineering student', 'first_name': 'Thomaz'}), (1, 2.0, 'Three', 23, [...], {1.0, 'A string'}, {'age': 23, 'nationality': 'Brazil', 'occupation': 'engineering student', 'first_name': 'Thomaz'}), (1, 2.0, 'Three', 23, [...], {1.0, 'A string'}, {'age': 23, 'nationality': 'Brazil', 'occupation': 'engineering student', 'first_name': 'Thomaz'}), (1, 2.0, 'Three', 23, [...], {1.0, 'A string'}, {'age': 23, 'nationality': 'Brazil', 'occupation': 'engineering student', 'first_name': 'Thomaz'}), (...)], {1.0, 'A string'}, {'age': 23, 'nationality': 'Brazil', 'occupation': 'engineering student', 'first_name': 'Thomaz'})}\n"
     ]
    }
   ],
   "source": [
    "print(alist)\n",
    "print(aset)\n",
    "print(dict_)\n",
    "\n",
    "print('____')\n",
    "\n",
    "atuple=(1,2.0,'Three',variable, alist, aset,dic)\n",
    "print(atuple)\n",
    "\n",
    "print('____')\n",
    "\n",
    "alist.append(atuple)\n",
    "print(alist)\n",
    "\n",
    "print('____')\n",
    "\n",
    "dict_['tuple']=atuple\n",
    "print(dict_)"
   ]
  },
  {
   "cell_type": "markdown",
   "id": "876eefe2",
   "metadata": {},
   "source": [
    "#### From Tuple to List to Tuple: allowing operations\n",
    "\n",
    "We are able to convert tuples in lists and back.This allows us to make some operations."
   ]
  },
  {
   "cell_type": "code",
   "execution_count": 772,
   "id": "08948f9a",
   "metadata": {},
   "outputs": [
    {
     "name": "stdout",
     "output_type": "stream",
     "text": [
      "('a', 'b', 'c', 'd', 'e')\n"
     ]
    },
    {
     "data": {
      "text/plain": [
       "('a', 'b', 'c', 'd', 'e', 'f')"
      ]
     },
     "execution_count": 772,
     "metadata": {},
     "output_type": "execute_result"
    }
   ],
   "source": [
    "tuple_abc=('a','b','c','d','e')\n",
    "print(tuple_abc)\n",
    "list_abc=list(tuple_abc)\n",
    "list_abc.append('f')\n",
    "tuple_abc=tuple(list_abc)\n",
    "tuple_abc"
   ]
  },
  {
   "cell_type": "code",
   "execution_count": 773,
   "id": "4d11dacc",
   "metadata": {},
   "outputs": [
    {
     "name": "stdout",
     "output_type": "stream",
     "text": [
      "('a', 'b', 'c', 'd', 'e')\n"
     ]
    },
    {
     "data": {
      "text/plain": [
       "('a', 'b', 'd', 'e')"
      ]
     },
     "execution_count": 773,
     "metadata": {},
     "output_type": "execute_result"
    }
   ],
   "source": [
    "tuple_abc=('a','b','c','d','e')\n",
    "print(tuple_abc)\n",
    "list_abc=list(tuple_abc)\n",
    "list_abc.remove('c')\n",
    "tuple_abc=tuple(list_abc)\n",
    "tuple_abc"
   ]
  }
 ],
 "metadata": {
  "kernelspec": {
   "display_name": "Python 3",
   "language": "python",
   "name": "python3"
  },
  "language_info": {
   "codemirror_mode": {
    "name": "ipython",
    "version": 3
   },
   "file_extension": ".py",
   "mimetype": "text/x-python",
   "name": "python",
   "nbconvert_exporter": "python",
   "pygments_lexer": "ipython3",
   "version": "3.8.8"
  }
 },
 "nbformat": 4,
 "nbformat_minor": 5
}
